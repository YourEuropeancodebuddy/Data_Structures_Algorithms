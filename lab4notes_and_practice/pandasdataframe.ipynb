{
 "cells": [
  {
   "cell_type": "markdown",
   "metadata": {},
   "source": [
    "Building a data frame with mulitple columns\n",
    "- the idea is that you provide a dictionary as key  and then provide lists that match with that key the key will be the column "
   ]
  },
  {
   "cell_type": "code",
   "execution_count": 1,
   "metadata": {},
   "outputs": [],
   "source": [
    "import pandas as pd\n",
    "movie_database =  {\"movie\": [\"The Shawshank Redemption\",\n",
    "                             \"The Godfather\",\n",
    "                             \"The Godfather: Part II\",\n",
    "                             \"The Dark Knight\",\n",
    "                             \"Pulp Fiction\",\n",
    "                             \"12 Angry Men\",\n",
    "                             \"The Good, the Bad and the Ugly\",\n",
    "                             \"The Lord of the Rings: The Return of the King\",\n",
    "                             \"Schindler's List\",\n",
    "                             \"Fight Club\",\n",
    "                             \"The Lord of the Rings: The Fellowship of the Ring\",\n",
    "                             \"Inception\",\n",
    "                             \"Star Wars: Episode V - The Empire Strikes Back\",\n",
    "                             \"Forrest Gump\"],\n",
    "                   \"duration\": [142, 175, 200, 152, 154, 96, 161,\n",
    "                                201, 195, 139, 178, 148, 124, 142],\n",
    "                   \"rating\": [9.3, 9.2, 9.1, 9, 8.9, 8.9, 8.9, 8.9,\n",
    "                              8.9, 8.9, 8.8, 8.8, 8.8, 8.8],\n",
    "                   \"genre\": [ \"Crime\", \"Crime\", \"Crime\", \"Action\",\n",
    "                              \"Crime\", \"Drama\", \"Western\",\n",
    "                              \"Adventure\", \"Biography\", \"Drama\",\n",
    "                              \"Adventure\", \"Action\", \"Action\", \"Drama\"]\n",
    "                   }"
   ]
  },
  {
   "cell_type": "code",
   "execution_count": 2,
   "metadata": {},
   "outputs": [
    {
     "name": "stdout",
     "output_type": "stream",
     "text": [
      "                                                movie  duration  rating  \\\n",
      "0                            The Shawshank Redemption       142     9.3   \n",
      "1                                       The Godfather       175     9.2   \n",
      "2                              The Godfather: Part II       200     9.1   \n",
      "3                                     The Dark Knight       152     9.0   \n",
      "4                                        Pulp Fiction       154     8.9   \n",
      "5                                        12 Angry Men        96     8.9   \n",
      "6                      The Good, the Bad and the Ugly       161     8.9   \n",
      "7       The Lord of the Rings: The Return of the King       201     8.9   \n",
      "8                                    Schindler's List       195     8.9   \n",
      "9                                          Fight Club       139     8.9   \n",
      "10  The Lord of the Rings: The Fellowship of the Ring       178     8.8   \n",
      "11                                          Inception       148     8.8   \n",
      "12     Star Wars: Episode V - The Empire Strikes Back       124     8.8   \n",
      "13                                       Forrest Gump       142     8.8   \n",
      "\n",
      "        genre  \n",
      "0       Crime  \n",
      "1       Crime  \n",
      "2       Crime  \n",
      "3      Action  \n",
      "4       Crime  \n",
      "5       Drama  \n",
      "6     Western  \n",
      "7   Adventure  \n",
      "8   Biography  \n",
      "9       Drama  \n",
      "10  Adventure  \n",
      "11     Action  \n",
      "12     Action  \n",
      "13      Drama  \n"
     ]
    }
   ],
   "source": [
    "movie_reviews = pd.DataFrame(movie_database)\n",
    "print(movie_reviews)"
   ]
  },
  {
   "cell_type": "code",
   "execution_count": 4,
   "metadata": {},
   "outputs": [
    {
     "data": {
      "text/html": [
       "<div>\n",
       "<style scoped>\n",
       "    .dataframe tbody tr th:only-of-type {\n",
       "        vertical-align: middle;\n",
       "    }\n",
       "\n",
       "    .dataframe tbody tr th {\n",
       "        vertical-align: top;\n",
       "    }\n",
       "\n",
       "    .dataframe thead th {\n",
       "        text-align: right;\n",
       "    }\n",
       "</style>\n",
       "<table border=\"1\" class=\"dataframe\">\n",
       "  <thead>\n",
       "    <tr style=\"text-align: right;\">\n",
       "      <th></th>\n",
       "      <th>movie</th>\n",
       "      <th>duration</th>\n",
       "      <th>rating</th>\n",
       "      <th>genre</th>\n",
       "    </tr>\n",
       "  </thead>\n",
       "  <tbody>\n",
       "    <tr>\n",
       "      <th>0</th>\n",
       "      <td>The Shawshank Redemption</td>\n",
       "      <td>142</td>\n",
       "      <td>9.3</td>\n",
       "      <td>Crime</td>\n",
       "    </tr>\n",
       "    <tr>\n",
       "      <th>1</th>\n",
       "      <td>The Godfather</td>\n",
       "      <td>175</td>\n",
       "      <td>9.2</td>\n",
       "      <td>Crime</td>\n",
       "    </tr>\n",
       "    <tr>\n",
       "      <th>2</th>\n",
       "      <td>The Godfather: Part II</td>\n",
       "      <td>200</td>\n",
       "      <td>9.1</td>\n",
       "      <td>Crime</td>\n",
       "    </tr>\n",
       "    <tr>\n",
       "      <th>3</th>\n",
       "      <td>The Dark Knight</td>\n",
       "      <td>152</td>\n",
       "      <td>9.0</td>\n",
       "      <td>Action</td>\n",
       "    </tr>\n",
       "    <tr>\n",
       "      <th>4</th>\n",
       "      <td>Pulp Fiction</td>\n",
       "      <td>154</td>\n",
       "      <td>8.9</td>\n",
       "      <td>Crime</td>\n",
       "    </tr>\n",
       "  </tbody>\n",
       "</table>\n",
       "</div>"
      ],
      "text/plain": [
       "                      movie  duration  rating   genre\n",
       "0  The Shawshank Redemption       142     9.3   Crime\n",
       "1             The Godfather       175     9.2   Crime\n",
       "2    The Godfather: Part II       200     9.1   Crime\n",
       "3           The Dark Knight       152     9.0  Action\n",
       "4              Pulp Fiction       154     8.9   Crime"
      ]
     },
     "execution_count": 4,
     "metadata": {},
     "output_type": "execute_result"
    }
   ],
   "source": [
    "# when the data is too large to be displayed on the screen\n",
    "#- the keyword method.head() or method.tail() can be used to display first 5 or last 5\n",
    "movie_reviews.head()\n",
    "#movie_reviews.tail()"
   ]
  },
  {
   "cell_type": "markdown",
   "metadata": {},
   "source": [
    "- if there are two many colums then, the method.columns can be used to print the columns and then select the ones needed"
   ]
  },
  {
   "cell_type": "code",
   "execution_count": 5,
   "metadata": {},
   "outputs": [
    {
     "data": {
      "text/plain": [
       "Index(['movie', 'duration', 'rating', 'genre'], dtype='object')"
      ]
     },
     "execution_count": 5,
     "metadata": {},
     "output_type": "execute_result"
    }
   ],
   "source": [
    "movie_reviews.columns"
   ]
  },
  {
   "cell_type": "markdown",
   "metadata": {},
   "source": [
    "the following case is when a dictionary of dictionaries is passed as an argument to the pd.DataFrame. "
   ]
  },
  {
   "cell_type": "code",
   "execution_count": 6,
   "metadata": {},
   "outputs": [
    {
     "data": {
      "text/html": [
       "<div>\n",
       "<style scoped>\n",
       "    .dataframe tbody tr th:only-of-type {\n",
       "        vertical-align: middle;\n",
       "    }\n",
       "\n",
       "    .dataframe tbody tr th {\n",
       "        vertical-align: top;\n",
       "    }\n",
       "\n",
       "    .dataframe thead th {\n",
       "        text-align: right;\n",
       "    }\n",
       "</style>\n",
       "<table border=\"1\" class=\"dataframe\">\n",
       "  <thead>\n",
       "    <tr style=\"text-align: right;\">\n",
       "      <th></th>\n",
       "      <th>movie</th>\n",
       "      <th>duration</th>\n",
       "      <th>rating</th>\n",
       "      <th>genre</th>\n",
       "    </tr>\n",
       "  </thead>\n",
       "  <tbody>\n",
       "    <tr>\n",
       "      <th>t</th>\n",
       "      <td>The Shawshank Redemption</td>\n",
       "      <td>142</td>\n",
       "      <td>9.3</td>\n",
       "      <td>Crime</td>\n",
       "    </tr>\n",
       "    <tr>\n",
       "      <th>1</th>\n",
       "      <td>The Godfather</td>\n",
       "      <td>175</td>\n",
       "      <td>9.2</td>\n",
       "      <td>Crime</td>\n",
       "    </tr>\n",
       "    <tr>\n",
       "      <th>2</th>\n",
       "      <td>The Godfather: Part II</td>\n",
       "      <td>200</td>\n",
       "      <td>9.1</td>\n",
       "      <td>Crime</td>\n",
       "    </tr>\n",
       "    <tr>\n",
       "      <th>3</th>\n",
       "      <td>The Dark Knight</td>\n",
       "      <td>152</td>\n",
       "      <td>9.0</td>\n",
       "      <td>Action</td>\n",
       "    </tr>\n",
       "    <tr>\n",
       "      <th>4</th>\n",
       "      <td>Pulp Fiction</td>\n",
       "      <td>154</td>\n",
       "      <td>8.9</td>\n",
       "      <td>Crime</td>\n",
       "    </tr>\n",
       "    <tr>\n",
       "      <th>5</th>\n",
       "      <td>12 Angry Men</td>\n",
       "      <td>96</td>\n",
       "      <td>8.9</td>\n",
       "      <td>Drama</td>\n",
       "    </tr>\n",
       "    <tr>\n",
       "      <th>6</th>\n",
       "      <td>The Good, the Bad and the Ugly</td>\n",
       "      <td>161</td>\n",
       "      <td>8.9</td>\n",
       "      <td>Western</td>\n",
       "    </tr>\n",
       "    <tr>\n",
       "      <th>7</th>\n",
       "      <td>The Lord of the Rings: The Return of the King</td>\n",
       "      <td>201</td>\n",
       "      <td>8.9</td>\n",
       "      <td>Adventure</td>\n",
       "    </tr>\n",
       "    <tr>\n",
       "      <th>8</th>\n",
       "      <td>Schindler's List</td>\n",
       "      <td>195</td>\n",
       "      <td>8.9</td>\n",
       "      <td>Biography</td>\n",
       "    </tr>\n",
       "    <tr>\n",
       "      <th>9</th>\n",
       "      <td>Fight Club</td>\n",
       "      <td>139</td>\n",
       "      <td>8.9</td>\n",
       "      <td>Drama</td>\n",
       "    </tr>\n",
       "    <tr>\n",
       "      <th>10</th>\n",
       "      <td>The Lord of the Rings: The Fellowship of the Ring</td>\n",
       "      <td>178</td>\n",
       "      <td>8.8</td>\n",
       "      <td>Adventure</td>\n",
       "    </tr>\n",
       "    <tr>\n",
       "      <th>11</th>\n",
       "      <td>Inception</td>\n",
       "      <td>148</td>\n",
       "      <td>8.8</td>\n",
       "      <td>Action</td>\n",
       "    </tr>\n",
       "    <tr>\n",
       "      <th>12</th>\n",
       "      <td>Star Wars: Episode V - The Empire Strikes Back</td>\n",
       "      <td>124</td>\n",
       "      <td>8.8</td>\n",
       "      <td>Action</td>\n",
       "    </tr>\n",
       "    <tr>\n",
       "      <th>13</th>\n",
       "      <td>Forrest Gump</td>\n",
       "      <td>142</td>\n",
       "      <td>8.8</td>\n",
       "      <td>NaN</td>\n",
       "    </tr>\n",
       "  </tbody>\n",
       "</table>\n",
       "</div>"
      ],
      "text/plain": [
       "                                                movie  duration  rating  \\\n",
       "t                            The Shawshank Redemption       142     9.3   \n",
       "1                                       The Godfather       175     9.2   \n",
       "2                              The Godfather: Part II       200     9.1   \n",
       "3                                     The Dark Knight       152     9.0   \n",
       "4                                        Pulp Fiction       154     8.9   \n",
       "5                                        12 Angry Men        96     8.9   \n",
       "6                      The Good, the Bad and the Ugly       161     8.9   \n",
       "7       The Lord of the Rings: The Return of the King       201     8.9   \n",
       "8                                    Schindler's List       195     8.9   \n",
       "9                                          Fight Club       139     8.9   \n",
       "10  The Lord of the Rings: The Fellowship of the Ring       178     8.8   \n",
       "11                                          Inception       148     8.8   \n",
       "12     Star Wars: Episode V - The Empire Strikes Back       124     8.8   \n",
       "13                                       Forrest Gump       142     8.8   \n",
       "\n",
       "        genre  \n",
       "t       Crime  \n",
       "1       Crime  \n",
       "2       Crime  \n",
       "3      Action  \n",
       "4       Crime  \n",
       "5       Drama  \n",
       "6     Western  \n",
       "7   Adventure  \n",
       "8   Biography  \n",
       "9       Drama  \n",
       "10  Adventure  \n",
       "11     Action  \n",
       "12     Action  \n",
       "13        NaN  "
      ]
     },
     "execution_count": 6,
     "metadata": {},
     "output_type": "execute_result"
    }
   ],
   "source": [
    "movie_database = {\n",
    "    'movie': {\n",
    "        't': 'The Shawshank Redemption',\n",
    "        1: 'The Godfather',\n",
    "        2: 'The Godfather: Part II',\n",
    "        3: 'The Dark Knight',\n",
    "        4: 'Pulp Fiction',\n",
    "        5: '12 Angry Men',\n",
    "        6: 'The Good, the Bad and the Ugly',\n",
    "        7: 'The Lord of the Rings: The Return of the King',\n",
    "        8: \"Schindler's List\",\n",
    "        9: 'Fight Club',\n",
    "        10: 'The Lord of the Rings: The Fellowship of the Ring',\n",
    "        11: 'Inception',\n",
    "        12: 'Star Wars: Episode V - The Empire Strikes Back',\n",
    "        13: 'Forrest Gump'},\n",
    "    'duration': {\n",
    "        't': 142, 1: 175, 2: 200, 3: 152, 4: 154,\n",
    "        5: 96, 6: 161, 7: 201, 8: 195,\n",
    "        9: 139, 10: 178, 11: 148, 12: 124, 13: 142},\n",
    "    'rating': {\n",
    "        't': 9.3, 1: 9.2,\n",
    "        2: 9.1, 3: 9.0, 4: 8.9, 5: 8.9,\n",
    "        6: 8.9, 7: 8.9, 8: 8.9, 9: 8.9,\n",
    "        10: 8.8, 11: 8.8, 12: 8.8, 13: 8.8},\n",
    "    'genre': {\n",
    "        't': 'Crime', 1: 'Crime', 2: 'Crime',\n",
    "        3: 'Action', 4: 'Crime', 5: 'Drama',\n",
    "        6: 'Western', 7: 'Adventure', 8: 'Biography',\n",
    "        9: 'Drama', 10: 'Adventure', 11: 'Action',\n",
    "        12: 'Action'}\n",
    "}\n",
    "\n",
    "movie_reviews = pd.DataFrame(movie_database)\n",
    "movie_reviews"
   ]
  },
  {
   "cell_type": "markdown",
   "metadata": {},
   "source": [
    "As it can be seen above, the pd.DataFrame can take other data types as arguments it can also take \n",
    "- list of lists \n",
    "- list of numpy one d array \n",
    "- and many more \n",
    "mismatch of data will be handle by the NAN \n",
    "for example below "
   ]
  },
  {
   "cell_type": "code",
   "execution_count": 9,
   "metadata": {},
   "outputs": [
    {
     "data": {
      "text/html": [
       "<div>\n",
       "<style scoped>\n",
       "    .dataframe tbody tr th:only-of-type {\n",
       "        vertical-align: middle;\n",
       "    }\n",
       "\n",
       "    .dataframe tbody tr th {\n",
       "        vertical-align: top;\n",
       "    }\n",
       "\n",
       "    .dataframe thead th {\n",
       "        text-align: right;\n",
       "    }\n",
       "</style>\n",
       "<table border=\"1\" class=\"dataframe\">\n",
       "  <thead>\n",
       "    <tr style=\"text-align: right;\">\n",
       "      <th></th>\n",
       "      <th>0</th>\n",
       "      <th>1</th>\n",
       "      <th>2</th>\n",
       "    </tr>\n",
       "  </thead>\n",
       "  <tbody>\n",
       "    <tr>\n",
       "      <th>0</th>\n",
       "      <td>1</td>\n",
       "      <td>2</td>\n",
       "      <td>3</td>\n",
       "    </tr>\n",
       "    <tr>\n",
       "      <th>1</th>\n",
       "      <td>4</td>\n",
       "      <td>5</td>\n",
       "      <td>6</td>\n",
       "    </tr>\n",
       "    <tr>\n",
       "      <th>2</th>\n",
       "      <td>7</td>\n",
       "      <td>8</td>\n",
       "      <td>9</td>\n",
       "    </tr>\n",
       "  </tbody>\n",
       "</table>\n",
       "</div>"
      ],
      "text/plain": [
       "   0  1  2\n",
       "0  1  2  3\n",
       "1  4  5  6\n",
       "2  7  8  9"
      ]
     },
     "execution_count": 9,
     "metadata": {},
     "output_type": "execute_result"
    }
   ],
   "source": [
    "pd.DataFrame([[1,2,3], [4,5,6],[7,8,9]]) # list of lists \n"
   ]
  },
  {
   "cell_type": "code",
   "execution_count": 16,
   "metadata": {},
   "outputs": [
    {
     "data": {
      "text/html": [
       "<div>\n",
       "<style scoped>\n",
       "    .dataframe tbody tr th:only-of-type {\n",
       "        vertical-align: middle;\n",
       "    }\n",
       "\n",
       "    .dataframe tbody tr th {\n",
       "        vertical-align: top;\n",
       "    }\n",
       "\n",
       "    .dataframe thead th {\n",
       "        text-align: right;\n",
       "    }\n",
       "</style>\n",
       "<table border=\"1\" class=\"dataframe\">\n",
       "  <thead>\n",
       "    <tr style=\"text-align: right;\">\n",
       "      <th></th>\n",
       "      <th>0</th>\n",
       "      <th>1</th>\n",
       "      <th>2</th>\n",
       "      <th>3</th>\n",
       "    </tr>\n",
       "  </thead>\n",
       "  <tbody>\n",
       "    <tr>\n",
       "      <th>0</th>\n",
       "      <td>0.029549</td>\n",
       "      <td>0.801257</td>\n",
       "      <td>0.775139</td>\n",
       "      <td>0.818045</td>\n",
       "    </tr>\n",
       "    <tr>\n",
       "      <th>1</th>\n",
       "      <td>0.633168</td>\n",
       "      <td>0.192043</td>\n",
       "      <td>0.076315</td>\n",
       "      <td>0.712457</td>\n",
       "    </tr>\n",
       "    <tr>\n",
       "      <th>2</th>\n",
       "      <td>0.420805</td>\n",
       "      <td>0.503477</td>\n",
       "      <td>0.275721</td>\n",
       "      <td>0.235031</td>\n",
       "    </tr>\n",
       "  </tbody>\n",
       "</table>\n",
       "</div>"
      ],
      "text/plain": [
       "          0         1         2         3\n",
       "0  0.029549  0.801257  0.775139  0.818045\n",
       "1  0.633168  0.192043  0.076315  0.712457\n",
       "2  0.420805  0.503477  0.275721  0.235031"
      ]
     },
     "execution_count": 16,
     "metadata": {},
     "output_type": "execute_result"
    }
   ],
   "source": [
    "import numpy as np\n",
    "# it can take a two dimensional numpy arrays \n",
    "pd.DataFrame(np.random.rand(3,4))"
   ]
  },
  {
   "cell_type": "markdown",
   "metadata": {},
   "source": [
    "- ### Adding new columns to DataFrame "
   ]
  },
  {
   "cell_type": "code",
   "execution_count": 17,
   "metadata": {},
   "outputs": [
    {
     "data": {
      "text/html": [
       "<div>\n",
       "<style scoped>\n",
       "    .dataframe tbody tr th:only-of-type {\n",
       "        vertical-align: middle;\n",
       "    }\n",
       "\n",
       "    .dataframe tbody tr th {\n",
       "        vertical-align: top;\n",
       "    }\n",
       "\n",
       "    .dataframe thead th {\n",
       "        text-align: right;\n",
       "    }\n",
       "</style>\n",
       "<table border=\"1\" class=\"dataframe\">\n",
       "  <thead>\n",
       "    <tr style=\"text-align: right;\">\n",
       "      <th></th>\n",
       "      <th>movie</th>\n",
       "      <th>year</th>\n",
       "      <th>duration</th>\n",
       "    </tr>\n",
       "  </thead>\n",
       "  <tbody>\n",
       "    <tr>\n",
       "      <th>t</th>\n",
       "      <td>The Shawshank Redemption</td>\n",
       "      <td>NaN</td>\n",
       "      <td>142</td>\n",
       "    </tr>\n",
       "    <tr>\n",
       "      <th>1</th>\n",
       "      <td>The Godfather</td>\n",
       "      <td>NaN</td>\n",
       "      <td>175</td>\n",
       "    </tr>\n",
       "    <tr>\n",
       "      <th>2</th>\n",
       "      <td>The Godfather: Part II</td>\n",
       "      <td>NaN</td>\n",
       "      <td>200</td>\n",
       "    </tr>\n",
       "    <tr>\n",
       "      <th>3</th>\n",
       "      <td>The Dark Knight</td>\n",
       "      <td>NaN</td>\n",
       "      <td>152</td>\n",
       "    </tr>\n",
       "    <tr>\n",
       "      <th>4</th>\n",
       "      <td>Pulp Fiction</td>\n",
       "      <td>NaN</td>\n",
       "      <td>154</td>\n",
       "    </tr>\n",
       "    <tr>\n",
       "      <th>5</th>\n",
       "      <td>12 Angry Men</td>\n",
       "      <td>NaN</td>\n",
       "      <td>96</td>\n",
       "    </tr>\n",
       "    <tr>\n",
       "      <th>6</th>\n",
       "      <td>The Good, the Bad and the Ugly</td>\n",
       "      <td>NaN</td>\n",
       "      <td>161</td>\n",
       "    </tr>\n",
       "    <tr>\n",
       "      <th>7</th>\n",
       "      <td>The Lord of the Rings: The Return of the King</td>\n",
       "      <td>NaN</td>\n",
       "      <td>201</td>\n",
       "    </tr>\n",
       "    <tr>\n",
       "      <th>8</th>\n",
       "      <td>Schindler's List</td>\n",
       "      <td>NaN</td>\n",
       "      <td>195</td>\n",
       "    </tr>\n",
       "    <tr>\n",
       "      <th>9</th>\n",
       "      <td>Fight Club</td>\n",
       "      <td>NaN</td>\n",
       "      <td>139</td>\n",
       "    </tr>\n",
       "    <tr>\n",
       "      <th>10</th>\n",
       "      <td>The Lord of the Rings: The Fellowship of the Ring</td>\n",
       "      <td>NaN</td>\n",
       "      <td>178</td>\n",
       "    </tr>\n",
       "    <tr>\n",
       "      <th>11</th>\n",
       "      <td>Inception</td>\n",
       "      <td>NaN</td>\n",
       "      <td>148</td>\n",
       "    </tr>\n",
       "    <tr>\n",
       "      <th>12</th>\n",
       "      <td>Star Wars: Episode V - The Empire Strikes Back</td>\n",
       "      <td>NaN</td>\n",
       "      <td>124</td>\n",
       "    </tr>\n",
       "    <tr>\n",
       "      <th>13</th>\n",
       "      <td>Forrest Gump</td>\n",
       "      <td>NaN</td>\n",
       "      <td>142</td>\n",
       "    </tr>\n",
       "  </tbody>\n",
       "</table>\n",
       "</div>"
      ],
      "text/plain": [
       "                                                movie year  duration\n",
       "t                            The Shawshank Redemption  NaN       142\n",
       "1                                       The Godfather  NaN       175\n",
       "2                              The Godfather: Part II  NaN       200\n",
       "3                                     The Dark Knight  NaN       152\n",
       "4                                        Pulp Fiction  NaN       154\n",
       "5                                        12 Angry Men  NaN        96\n",
       "6                      The Good, the Bad and the Ugly  NaN       161\n",
       "7       The Lord of the Rings: The Return of the King  NaN       201\n",
       "8                                    Schindler's List  NaN       195\n",
       "9                                          Fight Club  NaN       139\n",
       "10  The Lord of the Rings: The Fellowship of the Ring  NaN       178\n",
       "11                                          Inception  NaN       148\n",
       "12     Star Wars: Episode V - The Empire Strikes Back  NaN       124\n",
       "13                                       Forrest Gump  NaN       142"
      ]
     },
     "execution_count": 17,
     "metadata": {},
     "output_type": "execute_result"
    }
   ],
   "source": [
    "pd.DataFrame(movie_database, columns = [\"movie\", \"year\", \"duration\"])\n",
    "\n",
    "# as it can be seen adding a new column that does not have data will have NAN \n",
    "# this can be changed later when the data is available "
   ]
  },
  {
   "cell_type": "markdown",
   "metadata": {},
   "source": [
    "### Accessing data from a DataFrame \n",
    "There are multiple ways to extract data from a DataFrame\n",
    "- To exctract a column we can pass it as an index if only one column is retrieved the result is a pandas series \n",
    "- but if multiple columns are selected, the result is a DataFrame with the selected columns"
   ]
  },
  {
   "cell_type": "code",
   "execution_count": 21,
   "metadata": {},
   "outputs": [
    {
     "data": {
      "text/plain": [
       "t     9.3\n",
       "1     9.2\n",
       "2     9.1\n",
       "3     9.0\n",
       "4     8.9\n",
       "5     8.9\n",
       "6     8.9\n",
       "7     8.9\n",
       "8     8.9\n",
       "9     8.9\n",
       "10    8.8\n",
       "11    8.8\n",
       "12    8.8\n",
       "13    8.8\n",
       "Name: rating, dtype: float64"
      ]
     },
     "execution_count": 21,
     "metadata": {},
     "output_type": "execute_result"
    }
   ],
   "source": [
    "movie_reviews[\"rating\"]\n"
   ]
  },
  {
   "cell_type": "code",
   "execution_count": 20,
   "metadata": {},
   "outputs": [
    {
     "data": {
      "text/html": [
       "<div>\n",
       "<style scoped>\n",
       "    .dataframe tbody tr th:only-of-type {\n",
       "        vertical-align: middle;\n",
       "    }\n",
       "\n",
       "    .dataframe tbody tr th {\n",
       "        vertical-align: top;\n",
       "    }\n",
       "\n",
       "    .dataframe thead th {\n",
       "        text-align: right;\n",
       "    }\n",
       "</style>\n",
       "<table border=\"1\" class=\"dataframe\">\n",
       "  <thead>\n",
       "    <tr style=\"text-align: right;\">\n",
       "      <th></th>\n",
       "      <th>movie</th>\n",
       "      <th>genre</th>\n",
       "      <th>rating</th>\n",
       "    </tr>\n",
       "  </thead>\n",
       "  <tbody>\n",
       "    <tr>\n",
       "      <th>t</th>\n",
       "      <td>The Shawshank Redemption</td>\n",
       "      <td>Crime</td>\n",
       "      <td>9.3</td>\n",
       "    </tr>\n",
       "    <tr>\n",
       "      <th>1</th>\n",
       "      <td>The Godfather</td>\n",
       "      <td>Crime</td>\n",
       "      <td>9.2</td>\n",
       "    </tr>\n",
       "    <tr>\n",
       "      <th>2</th>\n",
       "      <td>The Godfather: Part II</td>\n",
       "      <td>Crime</td>\n",
       "      <td>9.1</td>\n",
       "    </tr>\n",
       "    <tr>\n",
       "      <th>3</th>\n",
       "      <td>The Dark Knight</td>\n",
       "      <td>Action</td>\n",
       "      <td>9.0</td>\n",
       "    </tr>\n",
       "    <tr>\n",
       "      <th>4</th>\n",
       "      <td>Pulp Fiction</td>\n",
       "      <td>Crime</td>\n",
       "      <td>8.9</td>\n",
       "    </tr>\n",
       "    <tr>\n",
       "      <th>5</th>\n",
       "      <td>12 Angry Men</td>\n",
       "      <td>Drama</td>\n",
       "      <td>8.9</td>\n",
       "    </tr>\n",
       "    <tr>\n",
       "      <th>6</th>\n",
       "      <td>The Good, the Bad and the Ugly</td>\n",
       "      <td>Western</td>\n",
       "      <td>8.9</td>\n",
       "    </tr>\n",
       "    <tr>\n",
       "      <th>7</th>\n",
       "      <td>The Lord of the Rings: The Return of the King</td>\n",
       "      <td>Adventure</td>\n",
       "      <td>8.9</td>\n",
       "    </tr>\n",
       "    <tr>\n",
       "      <th>8</th>\n",
       "      <td>Schindler's List</td>\n",
       "      <td>Biography</td>\n",
       "      <td>8.9</td>\n",
       "    </tr>\n",
       "    <tr>\n",
       "      <th>9</th>\n",
       "      <td>Fight Club</td>\n",
       "      <td>Drama</td>\n",
       "      <td>8.9</td>\n",
       "    </tr>\n",
       "    <tr>\n",
       "      <th>10</th>\n",
       "      <td>The Lord of the Rings: The Fellowship of the Ring</td>\n",
       "      <td>Adventure</td>\n",
       "      <td>8.8</td>\n",
       "    </tr>\n",
       "    <tr>\n",
       "      <th>11</th>\n",
       "      <td>Inception</td>\n",
       "      <td>Action</td>\n",
       "      <td>8.8</td>\n",
       "    </tr>\n",
       "    <tr>\n",
       "      <th>12</th>\n",
       "      <td>Star Wars: Episode V - The Empire Strikes Back</td>\n",
       "      <td>Action</td>\n",
       "      <td>8.8</td>\n",
       "    </tr>\n",
       "    <tr>\n",
       "      <th>13</th>\n",
       "      <td>Forrest Gump</td>\n",
       "      <td>NaN</td>\n",
       "      <td>8.8</td>\n",
       "    </tr>\n",
       "  </tbody>\n",
       "</table>\n",
       "</div>"
      ],
      "text/plain": [
       "                                                movie      genre  rating\n",
       "t                            The Shawshank Redemption      Crime     9.3\n",
       "1                                       The Godfather      Crime     9.2\n",
       "2                              The Godfather: Part II      Crime     9.1\n",
       "3                                     The Dark Knight     Action     9.0\n",
       "4                                        Pulp Fiction      Crime     8.9\n",
       "5                                        12 Angry Men      Drama     8.9\n",
       "6                      The Good, the Bad and the Ugly    Western     8.9\n",
       "7       The Lord of the Rings: The Return of the King  Adventure     8.9\n",
       "8                                    Schindler's List  Biography     8.9\n",
       "9                                          Fight Club      Drama     8.9\n",
       "10  The Lord of the Rings: The Fellowship of the Ring  Adventure     8.8\n",
       "11                                          Inception     Action     8.8\n",
       "12     Star Wars: Episode V - The Empire Strikes Back     Action     8.8\n",
       "13                                       Forrest Gump        NaN     8.8"
      ]
     },
     "execution_count": 20,
     "metadata": {},
     "output_type": "execute_result"
    }
   ],
   "source": [
    "movie_reviews[[ 'movie','genre','rating']]\n",
    "# the order is printed according to the colums provided and not the orginal order "
   ]
  },
  {
   "cell_type": "markdown",
   "metadata": {},
   "source": [
    "### Accessing the rows \n",
    "- in order to access the rows the row loc is used  with labels of the row passed as index \n",
    "- passing many rows to be returned would return a pd Dataframe"
   ]
  },
  {
   "cell_type": "code",
   "execution_count": 23,
   "metadata": {},
   "outputs": [
    {
     "data": {
      "text/plain": [
       "movie       The Shawshank Redemption\n",
       "duration                         142\n",
       "rating                           9.3\n",
       "genre                          Crime\n",
       "Name: t, dtype: object"
      ]
     },
     "execution_count": 23,
     "metadata": {},
     "output_type": "execute_result"
    }
   ],
   "source": [
    "movie_reviews.loc[\"t\"]\n",
    "# when one row is passed to be retured, a panda series is returned with the column as index, and the values under those columns "
   ]
  },
  {
   "cell_type": "code",
   "execution_count": 26,
   "metadata": {},
   "outputs": [
    {
     "data": {
      "text/html": [
       "<div>\n",
       "<style scoped>\n",
       "    .dataframe tbody tr th:only-of-type {\n",
       "        vertical-align: middle;\n",
       "    }\n",
       "\n",
       "    .dataframe tbody tr th {\n",
       "        vertical-align: top;\n",
       "    }\n",
       "\n",
       "    .dataframe thead th {\n",
       "        text-align: right;\n",
       "    }\n",
       "</style>\n",
       "<table border=\"1\" class=\"dataframe\">\n",
       "  <thead>\n",
       "    <tr style=\"text-align: right;\">\n",
       "      <th></th>\n",
       "      <th>movie</th>\n",
       "      <th>duration</th>\n",
       "      <th>rating</th>\n",
       "      <th>genre</th>\n",
       "    </tr>\n",
       "  </thead>\n",
       "  <tbody>\n",
       "    <tr>\n",
       "      <th>1</th>\n",
       "      <td>The Godfather</td>\n",
       "      <td>175</td>\n",
       "      <td>9.2</td>\n",
       "      <td>Crime</td>\n",
       "    </tr>\n",
       "    <tr>\n",
       "      <th>2</th>\n",
       "      <td>The Godfather: Part II</td>\n",
       "      <td>200</td>\n",
       "      <td>9.1</td>\n",
       "      <td>Crime</td>\n",
       "    </tr>\n",
       "    <tr>\n",
       "      <th>t</th>\n",
       "      <td>The Shawshank Redemption</td>\n",
       "      <td>142</td>\n",
       "      <td>9.3</td>\n",
       "      <td>Crime</td>\n",
       "    </tr>\n",
       "  </tbody>\n",
       "</table>\n",
       "</div>"
      ],
      "text/plain": [
       "                      movie  duration  rating  genre\n",
       "1             The Godfather       175     9.2  Crime\n",
       "2    The Godfather: Part II       200     9.1  Crime\n",
       "t  The Shawshank Redemption       142     9.3  Crime"
      ]
     },
     "execution_count": 26,
     "metadata": {},
     "output_type": "execute_result"
    }
   ],
   "source": [
    "# passing manyrows \n",
    "\n",
    "movie_reviews.loc[[ 1, 2, \"t\"]]\n",
    "# and the new order is followed  and not the original one "
   ]
  },
  {
   "cell_type": "markdown",
   "metadata": {},
   "source": [
    "It is possible that desired rows and columns are selected on the same time.\n",
    "- one of the ways of doing it is "
   ]
  },
  {
   "cell_type": "code",
   "execution_count": 31,
   "metadata": {},
   "outputs": [
    {
     "data": {
      "text/plain": [
       "(                    movie  duration  rating   genre\n",
       " 1           The Godfather       175     9.2   Crime\n",
       " 2  The Godfather: Part II       200     9.1   Crime\n",
       " 3         The Dark Knight       152     9.0  Action\n",
       " 4            Pulp Fiction       154     8.9   Crime,\n",
       " ['movie', 'rating', 'genre'])"
      ]
     },
     "execution_count": 31,
     "metadata": {},
     "output_type": "execute_result"
    }
   ],
   "source": [
    "movie_reviews[1:5], [\"movie\", \"rating\", \"genre\"]"
   ]
  },
  {
   "cell_type": "markdown",
   "metadata": {},
   "source": [
    "- To select a specific element from the DataFrame \n"
   ]
  },
  {
   "cell_type": "code",
   "execution_count": 32,
   "metadata": {},
   "outputs": [
    {
     "data": {
      "text/plain": [
       "'The Shawshank Redemption'"
      ]
     },
     "execution_count": 32,
     "metadata": {},
     "output_type": "execute_result"
    }
   ],
   "source": [
    "movie_reviews.at[\"t\", \"movie\"]"
   ]
  },
  {
   "cell_type": "markdown",
   "metadata": {},
   "source": [
    "Other ways of accessing elements from DataFrame is using the iloc though it is advised against unless it is needed \n",
    "- it uses the iloc and iat "
   ]
  },
  {
   "cell_type": "code",
   "execution_count": 35,
   "metadata": {},
   "outputs": [
    {
     "data": {
      "text/html": [
       "<div>\n",
       "<style scoped>\n",
       "    .dataframe tbody tr th:only-of-type {\n",
       "        vertical-align: middle;\n",
       "    }\n",
       "\n",
       "    .dataframe tbody tr th {\n",
       "        vertical-align: top;\n",
       "    }\n",
       "\n",
       "    .dataframe thead th {\n",
       "        text-align: right;\n",
       "    }\n",
       "</style>\n",
       "<table border=\"1\" class=\"dataframe\">\n",
       "  <thead>\n",
       "    <tr style=\"text-align: right;\">\n",
       "      <th></th>\n",
       "      <th>movie</th>\n",
       "      <th>duration</th>\n",
       "      <th>rating</th>\n",
       "      <th>genre</th>\n",
       "    </tr>\n",
       "  </thead>\n",
       "  <tbody>\n",
       "    <tr>\n",
       "      <th>1</th>\n",
       "      <td>The Godfather</td>\n",
       "      <td>175</td>\n",
       "      <td>9.2</td>\n",
       "      <td>Crime</td>\n",
       "    </tr>\n",
       "    <tr>\n",
       "      <th>2</th>\n",
       "      <td>The Godfather: Part II</td>\n",
       "      <td>200</td>\n",
       "      <td>9.1</td>\n",
       "      <td>Crime</td>\n",
       "    </tr>\n",
       "  </tbody>\n",
       "</table>\n",
       "</div>"
      ],
      "text/plain": [
       "                    movie  duration  rating  genre\n",
       "1           The Godfather       175     9.2  Crime\n",
       "2  The Godfather: Part II       200     9.1  Crime"
      ]
     },
     "execution_count": 35,
     "metadata": {},
     "output_type": "execute_result"
    }
   ],
   "source": [
    "movie_reviews.iloc[1:3, 0:4]"
   ]
  },
  {
   "cell_type": "markdown",
   "metadata": {},
   "source": [
    "## Accessing Data using boolean series \n",
    "- if we need to filter down data using boolean we have to exrtact the column first and then print it"
   ]
  },
  {
   "cell_type": "code",
   "execution_count": 37,
   "metadata": {},
   "outputs": [
    {
     "name": "stdout",
     "output_type": "stream",
     "text": [
      "t      True\n",
      "1      True\n",
      "2      True\n",
      "3     False\n",
      "4     False\n",
      "5     False\n",
      "6     False\n",
      "7     False\n",
      "8     False\n",
      "9     False\n",
      "10    False\n",
      "11    False\n",
      "12    False\n",
      "13    False\n",
      "Name: rating, dtype: bool\n",
      "                      movie  duration  rating  genre\n",
      "t  The Shawshank Redemption       142     9.3  Crime\n",
      "1             The Godfather       175     9.2  Crime\n",
      "2    The Godfather: Part II       200     9.1  Crime\n"
     ]
    }
   ],
   "source": [
    "ratings_filtered =( movie_reviews[\"rating\"]>9.0)\n",
    "print(ratings_filtered) # true selects rows \n",
    "print(movie_reviews[ratings_filtered])\n",
    "# since it returns a Panda DataFrame, it can be filtered further by other criteria using iloc "
   ]
  },
  {
   "cell_type": "markdown",
   "metadata": {},
   "source": [
    "## Arthmetic with DataFrame "
   ]
  },
  {
   "cell_type": "code",
   "execution_count": 46,
   "metadata": {},
   "outputs": [
    {
     "name": "stdout",
     "output_type": "stream",
     "text": [
      "          a         b\n",
      "0  0.601146  0.958127\n",
      "1  0.236013  0.101447\n",
      "2  0.353679  0.806651\n",
      "          a         c         d\n",
      "0  0.333025  0.500543  0.497247\n",
      "1  0.058950  0.762067  0.773848\n",
      "          a   b   c   d\n",
      "0  0.934171 NaN NaN NaN\n",
      "1  0.294963 NaN NaN NaN\n",
      "2       NaN NaN NaN NaN\n"
     ]
    }
   ],
   "source": [
    "df1 = pd.DataFrame(np.random.rand(3,2),columns=['a', 'b'])\n",
    "print(df1)\n",
    "\n",
    "df2 = pd.DataFrame(np.random.rand(2,3),columns=['a', 'c', 'd'])\n",
    "print(df2)\n",
    "\n",
    "print(df1 + df2)\n",
    "\n",
    "\n"
   ]
  },
  {
   "cell_type": "code",
   "execution_count": 41,
   "metadata": {},
   "outputs": [
    {
     "name": "stdout",
     "output_type": "stream",
     "text": [
      "          a   b   c   d\n",
      "0  1.466517 NaN NaN NaN\n",
      "1  1.223004 NaN NaN NaN\n",
      "2       NaN NaN NaN NaN\n"
     ]
    }
   ],
   "source": [
    "print(df1.add(df2))"
   ]
  },
  {
   "cell_type": "code",
   "execution_count": 45,
   "metadata": {},
   "outputs": [
    {
     "name": "stdout",
     "output_type": "stream",
     "text": [
      "          a         b         c         d\n",
      "0  1.466517  0.394851  0.739556  0.476498\n",
      "1  1.223004  0.310562  0.404827  0.242469\n",
      "2  0.455939  0.314834       NaN       NaN\n"
     ]
    }
   ],
   "source": [
    "\n",
    "print(df1.add(df2, fill_value=0))\n"
   ]
  },
  {
   "cell_type": "markdown",
   "metadata": {},
   "source": [
    "# Another example trying to add a nother Panda DataFrame "
   ]
  },
  {
   "cell_type": "code",
   "execution_count": 50,
   "metadata": {},
   "outputs": [
    {
     "data": {
      "text/html": [
       "<div>\n",
       "<style scoped>\n",
       "    .dataframe tbody tr th:only-of-type {\n",
       "        vertical-align: middle;\n",
       "    }\n",
       "\n",
       "    .dataframe tbody tr th {\n",
       "        vertical-align: top;\n",
       "    }\n",
       "\n",
       "    .dataframe thead th {\n",
       "        text-align: right;\n",
       "    }\n",
       "</style>\n",
       "<table border=\"1\" class=\"dataframe\">\n",
       "  <thead>\n",
       "    <tr style=\"text-align: right;\">\n",
       "      <th></th>\n",
       "      <th>duration</th>\n",
       "      <th>genre</th>\n",
       "      <th>movie</th>\n",
       "      <th>rating</th>\n",
       "    </tr>\n",
       "  </thead>\n",
       "  <tbody>\n",
       "    <tr>\n",
       "      <th>t</th>\n",
       "      <td>142</td>\n",
       "      <td>Crime</td>\n",
       "      <td>The Shawshank Redemption</td>\n",
       "      <td>18.6</td>\n",
       "    </tr>\n",
       "    <tr>\n",
       "      <th>1</th>\n",
       "      <td>175</td>\n",
       "      <td>Crime</td>\n",
       "      <td>The Godfather</td>\n",
       "      <td>18.4</td>\n",
       "    </tr>\n",
       "    <tr>\n",
       "      <th>2</th>\n",
       "      <td>200</td>\n",
       "      <td>Crime</td>\n",
       "      <td>The Godfather: Part II</td>\n",
       "      <td>18.2</td>\n",
       "    </tr>\n",
       "    <tr>\n",
       "      <th>3</th>\n",
       "      <td>152</td>\n",
       "      <td>Action</td>\n",
       "      <td>The Dark Knight</td>\n",
       "      <td>18.0</td>\n",
       "    </tr>\n",
       "    <tr>\n",
       "      <th>4</th>\n",
       "      <td>154</td>\n",
       "      <td>Crime</td>\n",
       "      <td>Pulp Fiction</td>\n",
       "      <td>17.8</td>\n",
       "    </tr>\n",
       "    <tr>\n",
       "      <th>5</th>\n",
       "      <td>96</td>\n",
       "      <td>Drama</td>\n",
       "      <td>12 Angry Men</td>\n",
       "      <td>17.8</td>\n",
       "    </tr>\n",
       "    <tr>\n",
       "      <th>6</th>\n",
       "      <td>161</td>\n",
       "      <td>Western</td>\n",
       "      <td>The Good, the Bad and the Ugly</td>\n",
       "      <td>17.8</td>\n",
       "    </tr>\n",
       "    <tr>\n",
       "      <th>7</th>\n",
       "      <td>201</td>\n",
       "      <td>Adventure</td>\n",
       "      <td>The Lord of the Rings: The Return of the King</td>\n",
       "      <td>17.8</td>\n",
       "    </tr>\n",
       "    <tr>\n",
       "      <th>8</th>\n",
       "      <td>195</td>\n",
       "      <td>Biography</td>\n",
       "      <td>Schindler's List</td>\n",
       "      <td>17.8</td>\n",
       "    </tr>\n",
       "    <tr>\n",
       "      <th>9</th>\n",
       "      <td>139</td>\n",
       "      <td>Drama</td>\n",
       "      <td>Fight Club</td>\n",
       "      <td>17.8</td>\n",
       "    </tr>\n",
       "    <tr>\n",
       "      <th>10</th>\n",
       "      <td>178</td>\n",
       "      <td>Adventure</td>\n",
       "      <td>The Lord of the Rings: The Fellowship of the Ring</td>\n",
       "      <td>17.6</td>\n",
       "    </tr>\n",
       "    <tr>\n",
       "      <th>11</th>\n",
       "      <td>148</td>\n",
       "      <td>Action</td>\n",
       "      <td>Inception</td>\n",
       "      <td>17.6</td>\n",
       "    </tr>\n",
       "    <tr>\n",
       "      <th>12</th>\n",
       "      <td>124</td>\n",
       "      <td>Action</td>\n",
       "      <td>Star Wars: Episode V - The Empire Strikes Back</td>\n",
       "      <td>17.6</td>\n",
       "    </tr>\n",
       "    <tr>\n",
       "      <th>13</th>\n",
       "      <td>142</td>\n",
       "      <td>NaN</td>\n",
       "      <td>Forrest Gump</td>\n",
       "      <td>17.6</td>\n",
       "    </tr>\n",
       "  </tbody>\n",
       "</table>\n",
       "</div>"
      ],
      "text/plain": [
       "    duration      genre                                              movie  \\\n",
       "t        142      Crime                           The Shawshank Redemption   \n",
       "1        175      Crime                                      The Godfather   \n",
       "2        200      Crime                             The Godfather: Part II   \n",
       "3        152     Action                                    The Dark Knight   \n",
       "4        154      Crime                                       Pulp Fiction   \n",
       "5         96      Drama                                       12 Angry Men   \n",
       "6        161    Western                     The Good, the Bad and the Ugly   \n",
       "7        201  Adventure      The Lord of the Rings: The Return of the King   \n",
       "8        195  Biography                                   Schindler's List   \n",
       "9        139      Drama                                         Fight Club   \n",
       "10       178  Adventure  The Lord of the Rings: The Fellowship of the Ring   \n",
       "11       148     Action                                          Inception   \n",
       "12       124     Action     Star Wars: Episode V - The Empire Strikes Back   \n",
       "13       142        NaN                                       Forrest Gump   \n",
       "\n",
       "    rating  \n",
       "t     18.6  \n",
       "1     18.4  \n",
       "2     18.2  \n",
       "3     18.0  \n",
       "4     17.8  \n",
       "5     17.8  \n",
       "6     17.8  \n",
       "7     17.8  \n",
       "8     17.8  \n",
       "9     17.8  \n",
       "10    17.6  \n",
       "11    17.6  \n",
       "12    17.6  \n",
       "13    17.6  "
      ]
     },
     "execution_count": 50,
     "metadata": {},
     "output_type": "execute_result"
    }
   ],
   "source": [
    "ds = movie_reviews[\"rating\"]    # pandas Series\n",
    "df = pd.DataFrame(ds)           # Series to DataFrame\n",
    "df[\"movie\"] = \"\"               # Add column with empty strings\n",
    "df[\"genre\"] = \"\"               # Add column with empty strings\n",
    "df[\"duration\"] = 0              # Add column with zero value\n",
    "movie_reviews.add(df) "
   ]
  },
  {
   "cell_type": "markdown",
   "metadata": {},
   "source": [
    "- the following functions employ  the same method \n",
    "The methods of subtraction sub() and mul() and div()"
   ]
  },
  {
   "cell_type": "markdown",
   "metadata": {},
   "source": [
    "## Function and Mapping "
   ]
  },
  {
   "cell_type": "markdown",
   "metadata": {},
   "source": [
    "## Function and mapping \n",
    "- it's applying panda series functions on DataFrame \n"
   ]
  },
  {
   "cell_type": "code",
   "execution_count": 51,
   "metadata": {},
   "outputs": [
    {
     "name": "stdout",
     "output_type": "stream",
     "text": [
      "          A         B\n",
      "0  0.472656  0.482225\n",
      "1  0.164645  0.309313\n",
      "2  0.169268  0.974396\n",
      "A    0.164645\n",
      "B    0.309313\n",
      "dtype: float64\n",
      "A    0.164645\n",
      "B    0.309313\n",
      "dtype: float64\n",
      "0    0.472656\n",
      "1    0.164645\n",
      "2    0.169268\n",
      "dtype: float64\n"
     ]
    }
   ],
   "source": [
    "df = pd.DataFrame(np.random.rand(3,2), columns=['A', 'B'])\n",
    "\n",
    "print(df)\n",
    "\n",
    "print(df.min())                 # DataFrame's method min.\n",
    "\n",
    "print(df.apply(np.min)) # Numpy function min using apply.\n",
    "\n",
    "print(df.apply(np.min, axis=\"columns\"))"
   ]
  }
 ],
 "metadata": {
  "kernelspec": {
   "display_name": "Python 3",
   "language": "python",
   "name": "python3"
  },
  "language_info": {
   "codemirror_mode": {
    "name": "ipython",
    "version": 3
   },
   "file_extension": ".py",
   "mimetype": "text/x-python",
   "name": "python",
   "nbconvert_exporter": "python",
   "pygments_lexer": "ipython3",
   "version": "3.12.1"
  }
 },
 "nbformat": 4,
 "nbformat_minor": 2
}
