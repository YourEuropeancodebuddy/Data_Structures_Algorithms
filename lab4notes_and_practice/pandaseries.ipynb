{
 "cells": [
  {
   "cell_type": "code",
   "execution_count": 4,
   "metadata": {},
   "outputs": [
    {
     "name": "stdout",
     "output_type": "stream",
     "text": [
      "0    3\n",
      "1    4\n",
      "2    5\n",
      "3    6\n",
      "dtype: int64\n",
      "RangeIndex(start=0, stop=4, step=1)\n",
      "<NumpyExtensionArray>\n",
      "[3, 4, 5, 6]\n",
      "Length: 4, dtype: int64\n"
     ]
    }
   ],
   "source": [
    "import pandas as pd \n",
    "\n",
    "firstarray = pd.Series ([3,4,5,6])\n",
    "print(firstarray)\n",
    "# in this case the indices are automatically 0, 11 \n",
    "print(firstarray.index)\n",
    "print(firstarray.array)# this prints the list provided "
   ]
  },
  {
   "cell_type": "code",
   "execution_count": 5,
   "metadata": {},
   "outputs": [
    {
     "name": "stdout",
     "output_type": "stream",
     "text": [
      "first     10\n",
      "second     7\n",
      "third      6\n",
      "dtype: int64\n"
     ]
    }
   ],
   "source": [
    "normaldict = {'first': 10, \"second\":7, \"third\": 6}\n",
    "dictseries = pd.Series(normaldict)\n",
    "print(dictseries)\n",
    "print(dictseries.index)\n",
    "print(dictseries.array)\n"
   ]
  },
  {
   "cell_type": "code",
   "execution_count": 9,
   "metadata": {},
   "outputs": [
    {
     "name": "stdout",
     "output_type": "stream",
     "text": [
      "a    10.0\n",
      "B    20.0\n",
      "c     NaN\n",
      "d     NaN\n",
      "e     NaN\n",
      "dtype: float64\n"
     ]
    }
   ],
   "source": [
    "dct1 = {\"a\":10,\"B\":20,\"C\":32, \"D\":50, \"E\":60}\n",
    "idx = [\"a\", \"B\", \"c\", \"d\", \"e\"]\n",
    "newseries = pd.Series(dct1, index =idx)\n",
    "print(newseries)\n"
   ]
  },
  {
   "cell_type": "markdown",
   "metadata": {},
   "source": [
    "### Remarks \n",
    "above, when you try to assign index to a dictionary type variable that already has index, \n",
    "- the index provided as another list overides the normal present in the dictionary \n",
    "- values that have keys that do not match with the index will be replaced by NAN ( non a number )\n",
    "- and since not a number is a float, the matching index will be floats "
   ]
  },
  {
   "cell_type": "markdown",
   "metadata": {},
   "source": [
    "#### the following codes is modifying the index of already defined index "
   ]
  },
  {
   "cell_type": "code",
   "execution_count": 14,
   "metadata": {},
   "outputs": [
    {
     "name": "stdout",
     "output_type": "stream",
     "text": [
      "0    2\n",
      "1    3\n",
      "2    4\n",
      "3    5\n",
      "4    6\n",
      "dtype: int64\n",
      " chaning the index that comes with the default series\n",
      "first     2\n",
      "second    3\n",
      "third     4\n",
      "fourth    5\n",
      "fifth     6\n",
      "dtype: int64\n"
     ]
    }
   ],
   "source": [
    "lstseries = pd.Series([2,3,4,5,6])\n",
    "print(lstseries)\n",
    "print(\" chaning the index that comes with the default series\")\n",
    "lstseries.index = [\"first\", \"second\", \"third\", \"fourth\", \"fifth\"]\n",
    "print(lstseries)\n",
    "\n"
   ]
  },
  {
   "cell_type": "markdown",
   "metadata": {},
   "source": [
    "## Accessing elements in Pandas Series "
   ]
  },
  {
   "cell_type": "code",
   "execution_count": 15,
   "metadata": {},
   "outputs": [
    {
     "name": "stdout",
     "output_type": "stream",
     "text": [
      "The Shawshank Redemption                             9.3\n",
      "The Godfather                                        9.2\n",
      "The Godfather: Part II                               9.1\n",
      "The Dark Knight                                      9.0\n",
      "Pulp Fiction                                         8.9\n",
      "12 Angry Men                                         8.9\n",
      "The Good, the Bad and the Ugly                       8.9\n",
      "The Lord of the Rings: The Return of the King        8.9\n",
      "Schindler's List                                     8.9\n",
      "Fight Club                                           8.9\n",
      "The Lord of the Rings: The Fellowship of the Ring    8.8\n",
      "Inception                                            8.8\n",
      "Star Wars: Episode V - The Empire Strikes Back       8.8\n",
      "Forrest Gump                                         8.8\n",
      "dtype: float64\n"
     ]
    }
   ],
   "source": [
    "import pandas as pd\n",
    "\n",
    "idx = [\"The Shawshank Redemption\",\n",
    "       \"The Godfather\",\n",
    "       \"The Godfather: Part II\",\n",
    "       \"The Dark Knight\",\n",
    "       \"Pulp Fiction\",\n",
    "       \"12 Angry Men\",\n",
    "       \"The Good, the Bad and the Ugly\",\n",
    "       \"The Lord of the Rings: The Return of the King\",\n",
    "       \"Schindler's List\",\n",
    "       \"Fight Club\",\n",
    "       \"The Lord of the Rings: The Fellowship of the Ring\",\n",
    "       \"Inception\",\n",
    "       \"Star Wars: Episode V - The Empire Strikes Back\",\n",
    "       \"Forrest Gump\"]\n",
    "\n",
    "lst = [9.3, 9.2, 9.1, 9, 8.9, 8.9, 8.9, 8.9, 8.9, 8.9, 8.8, 8.8, 8.8, 8.8]\n",
    "\n",
    "ratings = pd.Series(lst, index=idx)\n",
    "print(ratings)"
   ]
  },
  {
   "cell_type": "code",
   "execution_count": 16,
   "metadata": {},
   "outputs": [
    {
     "data": {
      "text/plain": [
       "The Shawshank Redemption                              True\n",
       "The Godfather                                         True\n",
       "The Godfather: Part II                                True\n",
       "The Dark Knight                                      False\n",
       "Pulp Fiction                                         False\n",
       "12 Angry Men                                         False\n",
       "The Good, the Bad and the Ugly                       False\n",
       "The Lord of the Rings: The Return of the King        False\n",
       "Schindler's List                                     False\n",
       "Fight Club                                           False\n",
       "The Lord of the Rings: The Fellowship of the Ring    False\n",
       "Inception                                            False\n",
       "Star Wars: Episode V - The Empire Strikes Back       False\n",
       "Forrest Gump                                         False\n",
       "dtype: bool"
      ]
     },
     "execution_count": 16,
     "metadata": {},
     "output_type": "execute_result"
    }
   ],
   "source": [
    "# to create a mask for the data, it could be done using boolean pandas series\n",
    "\n",
    "ratings >9\n",
    "\n",
    "# this provides a table with numpy. bool as the data "
   ]
  },
  {
   "cell_type": "code",
   "execution_count": 18,
   "metadata": {},
   "outputs": [
    {
     "name": "stdout",
     "output_type": "stream",
     "text": [
      "The Shawshank Redemption    9.3\n",
      "The Godfather               9.2\n",
      "The Godfather: Part II      9.1\n",
      "dtype: float64\n"
     ]
    }
   ],
   "source": [
    "# Depending on the data we want to retrieve, the mask can be used accordingly \n",
    "\n",
    "ratings_greater_than_nine_mask = ratings>9\n",
    "actual_ratings_greater_than_nine = ratings[ratings_greater_than_nine_mask]\n",
    "print(actual_ratings_greater_than_nine)\n"
   ]
  },
  {
   "cell_type": "markdown",
   "metadata": {},
   "source": [
    "### Another way\n",
    "-  to collect the elements from a Panda data frame is to provide a list of indices as slice \n"
   ]
  },
  {
   "cell_type": "code",
   "execution_count": 32,
   "metadata": {},
   "outputs": [
    {
     "name": "stdout",
     "output_type": "stream",
     "text": [
      "The Shawshank Redemption    9.3\n",
      "The Godfather               9.2\n",
      "dtype: float64\n",
      "['The Shawshank Redemption', 'The Godfather']\n"
     ]
    }
   ],
   "source": [
    "lst2 = [\"The Shawshank Redemption\", \"The Godfather\"]\n",
    "print(ratings[lst2])\n"
   ]
  },
  {
   "cell_type": "markdown",
   "metadata": {},
   "source": [
    "### Using numpy functions with series \n",
    "- because they are faster than the python lists \n"
   ]
  },
  {
   "cell_type": "code",
   "execution_count": 33,
   "metadata": {},
   "outputs": [
    {
     "data": {
      "text/plain": [
       "6"
      ]
     },
     "execution_count": 33,
     "metadata": {},
     "output_type": "execute_result"
    }
   ],
   "source": [
    "import numpy as np\n",
    "np.count_nonzero (ratings ==8.9)\n",
    "# this counts the ratings where it is equal to 9"
   ]
  },
  {
   "cell_type": "code",
   "execution_count": 34,
   "metadata": {},
   "outputs": [
    {
     "data": {
      "text/plain": [
       "The Shawshank Redemption                             2.230014\n",
       "The Godfather                                        2.219203\n",
       "The Godfather: Part II                               2.208274\n",
       "The Dark Knight                                      2.197225\n",
       "Pulp Fiction                                         2.186051\n",
       "12 Angry Men                                         2.186051\n",
       "The Good, the Bad and the Ugly                       2.186051\n",
       "The Lord of the Rings: The Return of the King        2.186051\n",
       "Schindler's List                                     2.186051\n",
       "Fight Club                                           2.186051\n",
       "The Lord of the Rings: The Fellowship of the Ring    2.174752\n",
       "Inception                                            2.174752\n",
       "Star Wars: Episode V - The Empire Strikes Back       2.174752\n",
       "Forrest Gump                                         2.174752\n",
       "dtype: float64"
      ]
     },
     "execution_count": 34,
     "metadata": {},
     "output_type": "execute_result"
    }
   ],
   "source": [
    "# another example is the log functions which acts on the whole data frame\n",
    "np.log(ratings)"
   ]
  },
  {
   "cell_type": "markdown",
   "metadata": {},
   "source": [
    "- Two pandas series can be added together, (-) and (* multiplied)\n",
    "- they have to be of the same size or NAN will be produced \n",
    "- the index produced by the operations are sorted which which is how pandas handle indexing "
   ]
  },
  {
   "cell_type": "code",
   "execution_count": 36,
   "metadata": {},
   "outputs": [
    {
     "data": {
      "text/plain": [
       "12 Angry Men                                          NaN\n",
       "Fight Club                                            NaN\n",
       "Forrest Gump                                          NaN\n",
       "Inception                                             NaN\n",
       "Pulp Fiction                                          NaN\n",
       "Schindler's List                                      NaN\n",
       "Star Wars: Episode V - The Empire Strikes Back        NaN\n",
       "The Dark Knight                                       NaN\n",
       "The Godfather                                        18.4\n",
       "The Godfather: Part II                               18.2\n",
       "The Good, the Bad and the Ugly                        NaN\n",
       "The Lord of the Rings: The Fellowship of the Ring     NaN\n",
       "The Lord of the Rings: The Return of the King         NaN\n",
       "The Shawshank Redemption                             18.6\n",
       "dtype: float64"
      ]
     },
     "execution_count": 36,
     "metadata": {},
     "output_type": "execute_result"
    }
   ],
   "source": [
    "# for example \n",
    "ratings + ratings[ratings>9]\n",
    "\n",
    "# the operatin was performed where the index matched and where it did not NAN"
   ]
  },
  {
   "cell_type": "markdown",
   "metadata": {},
   "source": [
    "## Determining if the value is NAN or not \n",
    "- the function pd.isna is used "
   ]
  },
  {
   "cell_type": "code",
   "execution_count": 37,
   "metadata": {},
   "outputs": [
    {
     "data": {
      "text/plain": [
       "12 Angry Men                                          True\n",
       "Fight Club                                            True\n",
       "Forrest Gump                                          True\n",
       "Inception                                             True\n",
       "Pulp Fiction                                          True\n",
       "Schindler's List                                      True\n",
       "Star Wars: Episode V - The Empire Strikes Back        True\n",
       "The Dark Knight                                       True\n",
       "The Godfather                                        False\n",
       "The Godfather: Part II                               False\n",
       "The Good, the Bad and the Ugly                        True\n",
       "The Lord of the Rings: The Fellowship of the Ring     True\n",
       "The Lord of the Rings: The Return of the King         True\n",
       "The Shawshank Redemption                             False\n",
       "dtype: bool"
      ]
     },
     "execution_count": 37,
     "metadata": {},
     "output_type": "execute_result"
    }
   ],
   "source": [
    "ratings_added_maybe = ratings + ratings[ratings>9]\n",
    "pd.isna(ratings_added_maybe)"
   ]
  },
  {
   "cell_type": "markdown",
   "metadata": {},
   "source": [
    "## Metadata for series \n",
    "this is used when more information that needs to be added to a dataframe such as categorically differentiating \n",
    "the rows and columns and their use. \n",
    "- it's real world application is series that have ratings, title, duration, release date, ..."
   ]
  },
  {
   "cell_type": "code",
   "execution_count": 38,
   "metadata": {},
   "outputs": [
    {
     "data": {
      "text/plain": [
       "Movie title\n",
       "The Shawshank Redemption                             9.3\n",
       "The Godfather                                        9.2\n",
       "The Godfather: Part II                               9.1\n",
       "The Dark Knight                                      9.0\n",
       "Pulp Fiction                                         8.9\n",
       "12 Angry Men                                         8.9\n",
       "The Good, the Bad and the Ugly                       8.9\n",
       "The Lord of the Rings: The Return of the King        8.9\n",
       "Schindler's List                                     8.9\n",
       "Fight Club                                           8.9\n",
       "The Lord of the Rings: The Fellowship of the Ring    8.8\n",
       "Inception                                            8.8\n",
       "Star Wars: Episode V - The Empire Strikes Back       8.8\n",
       "Forrest Gump                                         8.8\n",
       "Name: ratings/10, dtype: float64"
      ]
     },
     "execution_count": 38,
     "metadata": {},
     "output_type": "execute_result"
    }
   ],
   "source": [
    "ratings.name =\"ratings/10\"\n",
    "ratings.index.name = \"Movie title\"\n",
    "ratings\n",
    "\n",
    "# in the above code, it sets the name of the data frame to ratings/ 10 meaning that the ratings are out of 10 \n",
    "# and that the index part of the data frame represents movie name or titles.\n",
    "\n",
    "# "
   ]
  },
  {
   "cell_type": "markdown",
   "metadata": {},
   "source": [
    "## series can be converted back to dictionaries \n",
    "- using method.to_dict()"
   ]
  },
  {
   "cell_type": "code",
   "execution_count": 39,
   "metadata": {},
   "outputs": [
    {
     "data": {
      "text/plain": [
       "{'The Shawshank Redemption': 9.3,\n",
       " 'The Godfather': 9.2,\n",
       " 'The Godfather: Part II': 9.1,\n",
       " 'The Dark Knight': 9.0,\n",
       " 'Pulp Fiction': 8.9,\n",
       " '12 Angry Men': 8.9,\n",
       " 'The Good, the Bad and the Ugly': 8.9,\n",
       " 'The Lord of the Rings: The Return of the King': 8.9,\n",
       " \"Schindler's List\": 8.9,\n",
       " 'Fight Club': 8.9,\n",
       " 'The Lord of the Rings: The Fellowship of the Ring': 8.8,\n",
       " 'Inception': 8.8,\n",
       " 'Star Wars: Episode V - The Empire Strikes Back': 8.8,\n",
       " 'Forrest Gump': 8.8}"
      ]
     },
     "execution_count": 39,
     "metadata": {},
     "output_type": "execute_result"
    }
   ],
   "source": [
    "ratings.to_dict()\n"
   ]
  }
 ],
 "metadata": {
  "kernelspec": {
   "display_name": "Python 3",
   "language": "python",
   "name": "python3"
  },
  "language_info": {
   "codemirror_mode": {
    "name": "ipython",
    "version": 3
   },
   "file_extension": ".py",
   "mimetype": "text/x-python",
   "name": "python",
   "nbconvert_exporter": "python",
   "pygments_lexer": "ipython3",
   "version": "3.12.1"
  }
 },
 "nbformat": 4,
 "nbformat_minor": 2
}
