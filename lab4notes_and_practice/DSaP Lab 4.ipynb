{
 "cells": [
  {
   "cell_type": "markdown",
   "id": "9578795f-723e-46cc-b7f4-faed37e6858e",
   "metadata": {
    "nbgrader": {
     "grade": false,
     "grade_id": "cell-4a1b3b6fe8710aa6",
     "locked": true,
     "schema_version": 3,
     "solution": false,
     "task": false
    }
   },
   "source": [
    "# Data Structures and Processing\n",
    "\n",
    "## Week 5: Introduction to Pandas"
   ]
  },
  {
   "cell_type": "markdown",
   "id": "e8b4d83d-aafa-4503-822b-25a9e318163f",
   "metadata": {
    "nbgrader": {
     "grade": false,
     "grade_id": "cell-6f3a04066a25376b",
     "locked": true,
     "schema_version": 3,
     "solution": false,
     "task": false
    }
   },
   "source": [
    "### Remarks:\n",
    "\n",
    "1. Press the `install requirements` button above to install the required packages.  See the `requirements.txt` for list of packages to be installed.\n",
    "\n",
    "2. Make sure that you are following the conventions.  For examples, `import pandas as pd`, which imports pandas packages and sets the abbreviation for it.\n",
    "\n",
    "3. Do not import the packages without the short names.  Doing so might lead to a namespace conflict, or unintended uses of functions coming from two libraries as a part of different implementations."
   ]
  },
  {
   "cell_type": "markdown",
   "id": "b1aa9048-bfc7-4ee0-af22-fb0d78606569",
   "metadata": {
    "nbgrader": {
     "grade": false,
     "grade_id": "cell-f539bbadda2d5ac1",
     "locked": true,
     "schema_version": 3,
     "solution": false,
     "task": false
    }
   },
   "source": [
    "### Load Libraries"
   ]
  },
  {
   "cell_type": "code",
   "execution_count": 4,
   "id": "2512a105-8759-4def-90bd-37977472539a",
   "metadata": {
    "nbgrader": {
     "grade": false,
     "grade_id": "cell-7c31d2351da86500",
     "locked": true,
     "schema_version": 3,
     "solution": false,
     "task": false
    }
   },
   "outputs": [],
   "source": [
    "import numpy as np\n",
    "import pandas as pd"
   ]
  },
  {
   "cell_type": "markdown",
   "id": "8b1ac47b-88e7-4815-b2d4-ee3d68293fad",
   "metadata": {
    "nbgrader": {
     "grade": false,
     "grade_id": "cell-80f968b6313de10e",
     "locked": true,
     "schema_version": 3,
     "solution": false,
     "task": false
    }
   },
   "source": [
    "### Task 1\n",
    "\n",
    "Pandas provide the function `pd.read_csv` that takes name of the file (a string) as an argument. In this case, it is assumed that you want to read a comma-separated-file (a file, where fields are separated by a single character \",\"). If it is the case that the fields are separated by a different character than \",\", then an additional named argument `sep` could be provided. It is also common to have a TAB character as a separation, or a semi-colon \";\" as a separator.\n",
    "\n",
    "Consider the file `imdb_ratings.tsv` (tab-separated-file) in the working directory and load it into the variable `df`."
   ]
  },
  {
   "cell_type": "code",
   "execution_count": 5,
   "id": "0ac907d5-5cfa-4dc7-bc79-0699a31ba4f3",
   "metadata": {
    "nbgrader": {
     "grade": false,
     "grade_id": "cell-f9602f767e29967e",
     "locked": false,
     "schema_version": 3,
     "solution": true,
     "task": false
    }
   },
   "outputs": [],
   "source": [
    "# Your solution goes here. Replace None with your solution\n",
    "df = pd.read_csv(\"imdb_ratings.tsv\", sep = '\\t')"
   ]
  },
  {
   "cell_type": "markdown",
   "id": "739dc213-9b66-4f58-991d-43c77300c09d",
   "metadata": {
    "nbgrader": {
     "grade": false,
     "grade_id": "cell-d657a0157456459b",
     "locked": true,
     "schema_version": 3,
     "solution": false,
     "task": false
    }
   },
   "source": [
    "### Task 2\n",
    "\n",
    "As a next step, we could like to have a look at the contents of the data imported into `df`. For this, a useful method is `head()`, which looks at first few lines. An integer could be provided to the method `head(n)`, in which case, only first `n` lines are returned. Another useful method is `tail()`, which works exactly like the method `head()`, and it returns last few lines.\n",
    "\n",
    "An important note here is that the object returned by the application of the methods `head()` or `tail()` is also a DataFrame.\n",
    "\n",
    "Assign the object to `df_head_10`, which is returned by using `head()` and focus on the first 10 lines."
   ]
  },
  {
   "cell_type": "code",
   "execution_count": 6,
   "id": "cd533957-8688-4dc1-84dc-0dc20768977d",
   "metadata": {
    "nbgrader": {
     "grade": false,
     "grade_id": "cell-8cb6a773c081864c",
     "locked": false,
     "schema_version": 3,
     "solution": true,
     "task": false
    }
   },
   "outputs": [
    {
     "data": {
      "text/html": [
       "<div>\n",
       "<style scoped>\n",
       "    .dataframe tbody tr th:only-of-type {\n",
       "        vertical-align: middle;\n",
       "    }\n",
       "\n",
       "    .dataframe tbody tr th {\n",
       "        vertical-align: top;\n",
       "    }\n",
       "\n",
       "    .dataframe thead th {\n",
       "        text-align: right;\n",
       "    }\n",
       "</style>\n",
       "<table border=\"1\" class=\"dataframe\">\n",
       "  <thead>\n",
       "    <tr style=\"text-align: right;\">\n",
       "      <th></th>\n",
       "      <th>stars_rating</th>\n",
       "      <th>title</th>\n",
       "      <th>rating</th>\n",
       "      <th>genre</th>\n",
       "      <th>duration</th>\n",
       "      <th>actors</th>\n",
       "    </tr>\n",
       "  </thead>\n",
       "  <tbody>\n",
       "    <tr>\n",
       "      <th>0</th>\n",
       "      <td>7.7</td>\n",
       "      <td>Zodiac</td>\n",
       "      <td>R</td>\n",
       "      <td>Crime</td>\n",
       "      <td>157</td>\n",
       "      <td>{\"Jake Gyllenhaal\", \"Robert Downey Jr.\", \"Mark...</td>\n",
       "    </tr>\n",
       "    <tr>\n",
       "      <th>1</th>\n",
       "      <td>8.2</td>\n",
       "      <td>Mary and Max</td>\n",
       "      <td>NOT RATED</td>\n",
       "      <td>Animation</td>\n",
       "      <td>92</td>\n",
       "      <td>{\"Toni Collette\", \"Philip Seymour Hoffman\", \"E...</td>\n",
       "    </tr>\n",
       "    <tr>\n",
       "      <th>2</th>\n",
       "      <td>7.7</td>\n",
       "      <td>The Producers</td>\n",
       "      <td>PG</td>\n",
       "      <td>Comedy</td>\n",
       "      <td>88</td>\n",
       "      <td>{\"Zero Mostel\", \"Gene Wilder\", \"Dick Shawn\"}</td>\n",
       "    </tr>\n",
       "    <tr>\n",
       "      <th>3</th>\n",
       "      <td>8.6</td>\n",
       "      <td>Spirited Away</td>\n",
       "      <td>PG</td>\n",
       "      <td>Animation</td>\n",
       "      <td>125</td>\n",
       "      <td>{\"Daveigh Chase\", \"Suzanne Pleshette\", \"Miyu I...</td>\n",
       "    </tr>\n",
       "    <tr>\n",
       "      <th>4</th>\n",
       "      <td>7.4</td>\n",
       "      <td>The NeverEnding Story</td>\n",
       "      <td>PG</td>\n",
       "      <td>Adventure</td>\n",
       "      <td>102</td>\n",
       "      <td>{\"Noah Hathaway\", \"Barret Oliver\", \"Tami Stron...</td>\n",
       "    </tr>\n",
       "    <tr>\n",
       "      <th>5</th>\n",
       "      <td>8.7</td>\n",
       "      <td>City of God</td>\n",
       "      <td>R</td>\n",
       "      <td>Crime</td>\n",
       "      <td>130</td>\n",
       "      <td>{\"Alexandre Rodrigues\", \"Matheus Nachtergaele\"...</td>\n",
       "    </tr>\n",
       "    <tr>\n",
       "      <th>6</th>\n",
       "      <td>8.4</td>\n",
       "      <td>The Kid</td>\n",
       "      <td>NOT RATED</td>\n",
       "      <td>Comedy</td>\n",
       "      <td>68</td>\n",
       "      <td>{\"Charles Chaplin\", \"Edna Purviance\", \"Jackie ...</td>\n",
       "    </tr>\n",
       "    <tr>\n",
       "      <th>7</th>\n",
       "      <td>8.2</td>\n",
       "      <td>Gran Torino</td>\n",
       "      <td>R</td>\n",
       "      <td>Drama</td>\n",
       "      <td>116</td>\n",
       "      <td>{\"Clint Eastwood\", \"Bee Vang\", \"Christopher Ca...</td>\n",
       "    </tr>\n",
       "    <tr>\n",
       "      <th>8</th>\n",
       "      <td>7.8</td>\n",
       "      <td>Changeling</td>\n",
       "      <td>R</td>\n",
       "      <td>Drama</td>\n",
       "      <td>141</td>\n",
       "      <td>{\"Angelina Jolie\", \"Colm Feore\", \"Amy Ryan\"}</td>\n",
       "    </tr>\n",
       "    <tr>\n",
       "      <th>9</th>\n",
       "      <td>8.0</td>\n",
       "      <td>Persepolis</td>\n",
       "      <td>PG-13</td>\n",
       "      <td>Animation</td>\n",
       "      <td>96</td>\n",
       "      <td>{\"Chiara Mastroianni\", \"Catherine Deneuve\", \"G...</td>\n",
       "    </tr>\n",
       "  </tbody>\n",
       "</table>\n",
       "</div>"
      ],
      "text/plain": [
       "   stars_rating                  title     rating      genre  duration  \\\n",
       "0           7.7                 Zodiac          R      Crime       157   \n",
       "1           8.2           Mary and Max  NOT RATED  Animation        92   \n",
       "2           7.7          The Producers         PG     Comedy        88   \n",
       "3           8.6          Spirited Away         PG  Animation       125   \n",
       "4           7.4  The NeverEnding Story         PG  Adventure       102   \n",
       "5           8.7            City of God          R      Crime       130   \n",
       "6           8.4                The Kid  NOT RATED     Comedy        68   \n",
       "7           8.2            Gran Torino          R      Drama       116   \n",
       "8           7.8             Changeling          R      Drama       141   \n",
       "9           8.0             Persepolis      PG-13  Animation        96   \n",
       "\n",
       "                                              actors  \n",
       "0  {\"Jake Gyllenhaal\", \"Robert Downey Jr.\", \"Mark...  \n",
       "1  {\"Toni Collette\", \"Philip Seymour Hoffman\", \"E...  \n",
       "2       {\"Zero Mostel\", \"Gene Wilder\", \"Dick Shawn\"}  \n",
       "3  {\"Daveigh Chase\", \"Suzanne Pleshette\", \"Miyu I...  \n",
       "4  {\"Noah Hathaway\", \"Barret Oliver\", \"Tami Stron...  \n",
       "5  {\"Alexandre Rodrigues\", \"Matheus Nachtergaele\"...  \n",
       "6  {\"Charles Chaplin\", \"Edna Purviance\", \"Jackie ...  \n",
       "7  {\"Clint Eastwood\", \"Bee Vang\", \"Christopher Ca...  \n",
       "8       {\"Angelina Jolie\", \"Colm Feore\", \"Amy Ryan\"}  \n",
       "9  {\"Chiara Mastroianni\", \"Catherine Deneuve\", \"G...  "
      ]
     },
     "execution_count": 6,
     "metadata": {},
     "output_type": "execute_result"
    }
   ],
   "source": [
    "# Your solution goes here. Replace None with your solution\n",
    "df_head_10 = df.head(10)\n",
    "df_head_10\n"
   ]
  },
  {
   "cell_type": "markdown",
   "id": "13386d49-e414-46de-9236-b462bf1ec4d4",
   "metadata": {
    "nbgrader": {
     "grade": false,
     "grade_id": "cell-60f55185edd03e98",
     "locked": true,
     "schema_version": 3,
     "solution": false,
     "task": false
    }
   },
   "source": [
    "### Task 3\n",
    "\n",
    "At this point, your probably must have noticed that, the tabular data in `df` contains 6 columns, and hundreds of rows. The types of the columns are either strings or numbers (numpy integers or numpy floats). Notice that the column containing actors \"looks\" like a Python's builtin data type `set`. But pandas, knows it only as a string. We could leave it like this, but the data presentation could be improved, by identifying the actors as not strings but as a set of strings (the actors). We could have the list of actors, but having set should work fine, as it is not important what actor appears where in the list.\n",
    "\n",
    "Let us improve `df`, to make sure that the last column contains sets and not strings."
   ]
  },
  {
   "cell_type": "code",
   "execution_count": 86,
   "id": "16b36de3-dd32-4d3b-96c2-c3ed5d449289",
   "metadata": {
    "nbgrader": {
     "grade": false,
     "grade_id": "cell-0cd1996e9cdc2bf1",
     "locked": false,
     "schema_version": 3,
     "solution": true,
     "task": false
    }
   },
   "outputs": [],
   "source": [
    "df[\"actors\"] = df[\"actors\"].apply(set)"
   ]
  },
  {
   "cell_type": "markdown",
   "id": "1a9046ed-3c45-458b-b97c-6d3af2c9c6ce",
   "metadata": {
    "nbgrader": {
     "grade": false,
     "grade_id": "cell-6bbfc309e8ba800b",
     "locked": true,
     "schema_version": 3,
     "solution": false,
     "task": false
    }
   },
   "source": [
    "### Task 4\n",
    "\n",
    "Notice that the data is not sorted at all with respect to any column. We would like to sort `df` with respect to the column `stars_rating`. In order to do that we use the method `sort_values()` with the named arguments `by` and `ascending=False`. The argument `by` takes the column name with respect to which, we want to sort the data frame.\n",
    "\n",
    "Notice that the application of the method `sort_values()` does not modify the original variable, but it returns a new data frame.\n",
    "\n",
    "Assign the sorted form of `df` with respect to the column `stars_rating`and assign the returned data frame to the variable `df_sorted`."
   ]
  },
  {
   "cell_type": "code",
   "execution_count": 87,
   "id": "99f69722-a333-4afc-8388-150efe4b596e",
   "metadata": {
    "nbgrader": {
     "grade": false,
     "grade_id": "cell-12ca0f583d04606c",
     "locked": false,
     "schema_version": 3,
     "solution": true,
     "task": false
    }
   },
   "outputs": [
    {
     "name": "stdout",
     "output_type": "stream",
     "text": [
      "     stars_rating                     title     rating      genre  duration  \\\n",
      "716           9.3  The Shawshank Redemption          R      Crime       142   \n",
      "167           9.2             The Godfather          R      Crime       175   \n",
      "954           9.1    The Godfather: Part II          R      Crime       200   \n",
      "187           9.0           The Dark Knight      PG-13     Action       152   \n",
      "494           8.9              12 Angry Men  NOT RATED      Drama        96   \n",
      "..            ...                       ...        ...        ...       ...   \n",
      "935           7.4      Crazy, Stupid, Love.      PG-13     Comedy       118   \n",
      "938           7.4        Death at a Funeral          R     Comedy        90   \n",
      "949           7.4            Predestination          R      Drama        97   \n",
      "35            7.4  Manhattan Murder Mystery         PG     Comedy       104   \n",
      "4             7.4     The NeverEnding Story         PG  Adventure       102   \n",
      "\n",
      "                                                actors  \n",
      "716  {{\"Tim Robbins\",  \"Morgan Freeman\",  \"Bob Gunt...  \n",
      "167   {{\"Marlon Brando\",  \"Al Pacino\",  \"James Caan\"}}  \n",
      "954  { \"Robert Duvall\"},  \"Robert De Niro\", {\"Al Pa...  \n",
      "187  {{\"Christian Bale\",  \"Heath Ledger\",  \"Aaron E...  \n",
      "494  { \"Lee J. Cobb\", {\"Henry Fonda\",  \"Martin Bals...  \n",
      "..                                                 ...  \n",
      "935  {{\"Steve Carell\",  \"Julianne Moore\"},  \"Ryan G...  \n",
      "938  { \"Peter Dinklage\", {\"Matthew Macfadyen\",  \"Ew...  \n",
      "949  { \"Sarah Snook\", {\"Ethan Hawke\",  \"Noah Taylor\"}}  \n",
      "35   {{\"Woody Allen\",  \"Jerry Adler\"},  \"Diane Keat...  \n",
      "4    { \"Barret Oliver\", {\"Noah Hathaway\",  \"Tami St...  \n",
      "\n",
      "[979 rows x 6 columns]\n"
     ]
    }
   ],
   "source": [
    "# Your solution goes here. Replace None with your solution\n",
    "df_sorted = df.sort_values(by= \"stars_rating\", ascending = False)\n",
    "print(df_sorted)"
   ]
  },
  {
   "cell_type": "markdown",
   "id": "df1f6dcc-23b2-4126-9a38-088933e87152",
   "metadata": {
    "nbgrader": {
     "grade": false,
     "grade_id": "cell-292aefc14f58221c",
     "locked": true,
     "schema_version": 3,
     "solution": false,
     "task": false
    }
   },
   "source": [
    "### Task 5\n",
    "\n",
    "We are now going to use induced boolean array to filter down to some records. At this step, we are going to work with `df`, and not with `df_sorted`.\n",
    "\n",
    "We want to return only those records of movies, whose ratings are between 8.5 and 9 (both inclusive). For this, we create a `df_rating_filter_85_90`"
   ]
  },
  {
   "cell_type": "code",
   "execution_count": 88,
   "id": "3e6dccae-1d97-4efd-a815-07c57795d59c",
   "metadata": {
    "nbgrader": {
     "grade": false,
     "grade_id": "cell-2331b5c2feaf844e",
     "locked": false,
     "schema_version": 3,
     "solution": true,
     "task": false
    }
   },
   "outputs": [],
   "source": [
    "# Your solution goes here. Replace None with your solution\n",
    "df_rating_filter_85_90 = (df[\"stars_rating\"]>= 8.9)& (df[\"stars_rating\"] <=9.0)\n"
   ]
  },
  {
   "cell_type": "markdown",
   "id": "1fc91b8e-f4b8-4360-bfac-550cdba72028",
   "metadata": {
    "nbgrader": {
     "grade": false,
     "grade_id": "cell-a057dd11358ccd23",
     "locked": true,
     "schema_version": 3,
     "solution": false,
     "task": false
    }
   },
   "source": [
    "### Task 6\n",
    "\n",
    "We would like to filter all the movies, in which Tom Hanks has acted.\n",
    "\n",
    "To achieve this, you could first write down a filter `tom_hanks_filter`, which is a pandas Series, and which could be used as a boolean mask to filter to desired records. We recommend working with the `df_sorted`."
   ]
  },
  {
   "cell_type": "code",
   "execution_count": 118,
   "id": "465c6724-356e-4a8f-9693-7fdc041bb050",
   "metadata": {
    "nbgrader": {
     "grade": false,
     "grade_id": "cell-e7522c44cb786d6c",
     "locked": false,
     "schema_version": 3,
     "solution": true,
     "task": false
    }
   },
   "outputs": [
    {
     "name": "stdout",
     "output_type": "stream",
     "text": [
      "Empty DataFrame\n",
      "Columns: [stars_rating, title, rating, genre, duration, actors]\n",
      "Index: []\n"
     ]
    },
    {
     "data": {
      "text/html": [
       "<div>\n",
       "<style scoped>\n",
       "    .dataframe tbody tr th:only-of-type {\n",
       "        vertical-align: middle;\n",
       "    }\n",
       "\n",
       "    .dataframe tbody tr th {\n",
       "        vertical-align: top;\n",
       "    }\n",
       "\n",
       "    .dataframe thead th {\n",
       "        text-align: right;\n",
       "    }\n",
       "</style>\n",
       "<table border=\"1\" class=\"dataframe\">\n",
       "  <thead>\n",
       "    <tr style=\"text-align: right;\">\n",
       "      <th></th>\n",
       "      <th>stars_rating</th>\n",
       "      <th>title</th>\n",
       "      <th>rating</th>\n",
       "      <th>genre</th>\n",
       "      <th>duration</th>\n",
       "      <th>actors</th>\n",
       "    </tr>\n",
       "  </thead>\n",
       "  <tbody>\n",
       "  </tbody>\n",
       "</table>\n",
       "</div>"
      ],
      "text/plain": [
       "Empty DataFrame\n",
       "Columns: [stars_rating, title, rating, genre, duration, actors]\n",
       "Index: []"
      ]
     },
     "execution_count": 118,
     "metadata": {},
     "output_type": "execute_result"
    }
   ],
   "source": [
    "# Your solution goes here. Replace None with your solution\n",
    "\n",
    "tom_hanks_filter = (df_sorted[\"actors\"] == \" Tom Hanks\")\n",
    "tom_hanks_movies = df_sorted[tom_hanks_filter]\n",
    "\n",
    "\n",
    "\n",
    "\n",
    "\n",
    "\n"
   ]
  },
  {
   "cell_type": "markdown",
   "id": "d2e2fd8b-33fe-47a1-b526-28ce9442c9b2",
   "metadata": {
    "nbgrader": {
     "grade": false,
     "grade_id": "cell-8f3a35eb4d6f746c",
     "locked": true,
     "schema_version": 3,
     "solution": false,
     "task": false
    }
   },
   "source": [
    "### Task 7 (Read Only)\n",
    "\n",
    "There are several different types of summaries that one can generate for a given data frame. Let us take an example, where we are going to count movies for each rating, and plot the result, with number of movies along vertical axis and rating along horizontal axis."
   ]
  },
  {
   "cell_type": "code",
   "execution_count": 1,
   "id": "bcf7a67c-8dff-44b2-a8eb-e045e9c4904b",
   "metadata": {
    "nbgrader": {
     "grade": false,
     "grade_id": "cell-70fdee0c805d7bc7",
     "locked": true,
     "schema_version": 3,
     "solution": false,
     "task": false
    }
   },
   "outputs": [
    {
     "data": {
      "text/plain": [
       "<Axes: xlabel='rating', ylabel='Number of Movies'>"
      ]
     },
     "execution_count": 1,
     "metadata": {},
     "output_type": "execute_result"
    },
    {
     "data": {
      "image/png": "[encoded data removed]",
      "text/plain": [
       "<Figure size 640x480 with 1 Axes>"
      ]
     },
     "metadata": {},
     "output_type": "display_data"
    }
   ],
   "source": [
    "# Load Libraries, if they are not done so far.\n",
    "import numpy as np\n",
    "import pandas as pd\n",
    "\n",
    "# Let us reload the data, in case, it is not done already. (Optional)\n",
    "df = pd.read_csv(\"imdb_ratings.tsv\", sep=\"\\t\")\n",
    "\n",
    "# access the column, and use the aggregate method value_counts() to count\n",
    "# the number of times a rating appears in the selected pandas series.\n",
    "df_ratings_movie_counts = df.iloc[:,0].value_counts().sort_index()\n",
    "\n",
    "# Use plot() method with named arguments.\n",
    "df_ratings_movie_counts.plot(kind=\"bar\",\n",
    "                             xlabel=\"rating\",\n",
    "                             ylabel=\"Number of Movies\",\n",
    "                             legend=False)"
   ]
  }
 ],
 "metadata": {
  "kernelspec": {
   "display_name": "Python 3 (ipykernel)",
   "language": "python",
   "name": "python3"
  },
  "language_info": {
   "codemirror_mode": {
    "name": "ipython",
    "version": 3
   },
   "file_extension": ".py",
   "mimetype": "text/x-python",
   "name": "python",
   "nbconvert_exporter": "python",
   "pygments_lexer": "ipython3",
   "version": "3.12.1"
  }
 },
 "nbformat": 4,
 "nbformat_minor": 5
}
