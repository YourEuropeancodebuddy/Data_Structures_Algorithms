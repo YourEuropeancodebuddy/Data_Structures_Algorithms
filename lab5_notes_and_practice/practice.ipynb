{
 "cells": [
  {
   "cell_type": "markdown",
   "metadata": {},
   "source": []
  },
  {
   "cell_type": "code",
   "execution_count": 4,
   "metadata": {},
   "outputs": [
    {
     "name": "stdout",
     "output_type": "stream",
     "text": [
      "0    1\n",
      "1    2\n",
      "2    3\n",
      "3    4\n",
      "dtype: int64\n"
     ]
    }
   ],
   "source": [
    "import pandas as pd \n",
    "data = pd.Series([1,2,3,4,])\n",
    "print(data)"
   ]
  },
  {
   "cell_type": "code",
   "execution_count": 7,
   "metadata": {},
   "outputs": [
    {
     "data": {
      "text/plain": [
       "Index(['a', 'b', 'c'], dtype='object')"
      ]
     },
     "execution_count": 7,
     "metadata": {},
     "output_type": "execute_result"
    }
   ],
   "source": [
    "## a dictionary can also be passed to the pandas series \n",
    "\n",
    "data = pd.Series({\"a\":1, \"b\":3, \"c\":4})\n",
    "data.array\n",
    "data.index"
   ]
  },
  {
   "cell_type": "code",
   "execution_count": 13,
   "metadata": {},
   "outputs": [
    {
     "name": "stdout",
     "output_type": "stream",
     "text": [
      "a    1\n",
      "b    2\n",
      "c    3\n",
      "d    4\n",
      "e    5\n",
      "dtype: int64\n"
     ]
    }
   ],
   "source": [
    "# another way of passing lements to the pd series could be passing a list on its own and then index \n",
    "# if the the number does not match then error will be returned \n",
    "\n",
    "lst = [1,2,3,4,5]\n",
    "idx = [\"a\", \"b\", \"c\", \"d\", \"e\"]\n",
    "data = pd.Series(lst,index =idx)\n",
    "print(data)"
   ]
  },
  {
   "cell_type": "code",
   "execution_count": 14,
   "metadata": {},
   "outputs": [
    {
     "data": {
      "text/plain": [
       "A    NaN\n",
       "b    4.0\n",
       "C    NaN\n",
       "dtype: float64"
      ]
     },
     "execution_count": 14,
     "metadata": {},
     "output_type": "execute_result"
    }
   ],
   "source": [
    "# if a dictionary is provided to the pandas series, and then another index is provided\n",
    "\n",
    "## there is reindexing which follows the new index, and the index that matches are kept and the other index that \n",
    "# do not match any data in the dictionary are assigned to NAN\n",
    "\n",
    "# for example \n",
    "\n",
    "d1 = {\"a\":3, \"b\":4, \"d\":10}\n",
    "idx = [\"A\", \"b\", \"C\" ]\n",
    "data = pd.Series(d1,index = idx)\n",
    "data"
   ]
  },
  {
   "cell_type": "markdown",
   "metadata": {},
   "source": [
    "- ## changing the index of an already existing series "
   ]
  },
  {
   "cell_type": "code",
   "execution_count": 17,
   "metadata": {},
   "outputs": [
    {
     "name": "stdout",
     "output_type": "stream",
     "text": [
      " we are now entering new index \n"
     ]
    },
    {
     "data": {
      "text/plain": [
       "first     1\n",
       "second    3\n",
       "third     2\n",
       "fourth    4\n",
       "dtype: int64"
      ]
     },
     "execution_count": 17,
     "metadata": {},
     "output_type": "execute_result"
    }
   ],
   "source": [
    "data = pd.Series([1,3,2,4,])\n",
    "data\n",
    "\n",
    "# changing the index \n",
    "print(\" we are now entering new index \")\n",
    "# the order of the index corresponds to how they are provided \n",
    "idx = [\"first\", \"second\", \"third\", \"fourth\"] \n",
    "# one way\n",
    "data.index = idx\n",
    "data\n",
    "\n",
    "# or this way \n",
    "# this takes more memory as it creates a copy of the whole array \n",
    "data= pd.Series(data.values, index= idx)\n",
    "data\n",
    "\n"
   ]
  },
  {
   "cell_type": "markdown",
   "metadata": {},
   "source": []
  },
  {
   "cell_type": "code",
   "execution_count": 18,
   "metadata": {},
   "outputs": [
    {
     "name": "stdout",
     "output_type": "stream",
     "text": [
      "The Shawshank Redemption                             9.3\n",
      "The Godfather                                        9.2\n",
      "The Godfather: Part II                               9.1\n",
      "The Dark Knight                                      9.0\n",
      "Pulp Fiction                                         8.9\n",
      "12 Angry Men                                         8.9\n",
      "The Good, the Bad and the Ugly                       8.9\n",
      "The Lord of the Rings: The Return of the King        8.9\n",
      "Schindler's List                                     8.9\n",
      "Fight Club                                           8.9\n",
      "The Lord of the Rings: The Fellowship of the Ring    8.8\n",
      "Inception                                            8.8\n",
      "Star Wars: Episode V - The Empire Strikes Back       8.8\n",
      "Forrest Gump                                         8.8\n",
      "dtype: float64\n"
     ]
    }
   ],
   "source": [
    "import pandas as pd\n",
    "\n",
    "idx = [\"The Shawshank Redemption\",\n",
    "       \"The Godfather\",\n",
    "       \"The Godfather: Part II\",\n",
    "       \"The Dark Knight\",\n",
    "       \"Pulp Fiction\",\n",
    "       \"12 Angry Men\",\n",
    "       \"The Good, the Bad and the Ugly\",\n",
    "       \"The Lord of the Rings: The Return of the King\",\n",
    "       \"Schindler's List\",\n",
    "       \"Fight Club\",\n",
    "       \"The Lord of the Rings: The Fellowship of the Ring\",\n",
    "       \"Inception\",\n",
    "       \"Star Wars: Episode V - The Empire Strikes Back\",\n",
    "       \"Forrest Gump\"]\n",
    "\n",
    "lst = [9.3, 9.2, 9.1, 9, 8.9, 8.9, 8.9, 8.9, 8.9, 8.9, 8.8, 8.8, 8.8, 8.8]\n",
    "\n",
    "ratings = pd.Series(lst, index=idx)\n",
    "print(ratings)"
   ]
  },
  {
   "cell_type": "markdown",
   "metadata": {},
   "source": [
    "To create pandas with boolean values we just provide a comparison and then a table of the same length is provided"
   ]
  },
  {
   "cell_type": "code",
   "execution_count": 20,
   "metadata": {},
   "outputs": [
    {
     "data": {
      "text/plain": [
       "The Shawshank Redemption                              True\n",
       "The Godfather                                         True\n",
       "The Godfather: Part II                                True\n",
       "The Dark Knight                                      False\n",
       "Pulp Fiction                                         False\n",
       "12 Angry Men                                         False\n",
       "The Good, the Bad and the Ugly                       False\n",
       "The Lord of the Rings: The Return of the King        False\n",
       "Schindler's List                                     False\n",
       "Fight Club                                           False\n",
       "The Lord of the Rings: The Fellowship of the Ring    False\n",
       "Inception                                            False\n",
       "Star Wars: Episode V - The Empire Strikes Back       False\n",
       "Forrest Gump                                         False\n",
       "dtype: bool"
      ]
     },
     "execution_count": 20,
     "metadata": {},
     "output_type": "execute_result"
    }
   ],
   "source": [
    "ratings>9.0"
   ]
  },
  {
   "cell_type": "markdown",
   "metadata": {},
   "source": [
    "After that, then the mast can be used to print the values \n",
    "the values that will be printed are the ones that have boolean values of true"
   ]
  },
  {
   "cell_type": "code",
   "execution_count": 21,
   "metadata": {},
   "outputs": [
    {
     "data": {
      "text/plain": [
       "The Shawshank Redemption    9.3\n",
       "The Godfather               9.2\n",
       "The Godfather: Part II      9.1\n",
       "dtype: float64"
      ]
     },
     "execution_count": 21,
     "metadata": {},
     "output_type": "execute_result"
    }
   ],
   "source": [
    "rantings_greater_than_9_mask = ratings>9\n",
    "ratings_greater_thank_9 = ratings[rantings_greater_than_9_mask]\n",
    "ratings_greater_thank_9"
   ]
  },
  {
   "cell_type": "markdown",
   "metadata": {},
   "source": [
    "Another way to collect elements is to use indices slice "
   ]
  },
  {
   "cell_type": "code",
   "execution_count": 24,
   "metadata": {},
   "outputs": [
    {
     "data": {
      "text/plain": [
       "The Shawshank Redemption    9.3\n",
       "The Godfather               9.2\n",
       "dtype: float64"
      ]
     },
     "execution_count": 24,
     "metadata": {},
     "output_type": "execute_result"
    }
   ],
   "source": [
    "lst2 = [\"The Shawshank Redemption\", \"The Godfather\"]\n",
    "ratings[lst2]"
   ]
  },
  {
   "cell_type": "markdown",
   "metadata": {},
   "source": [
    "Combining the np functions and the pandas series instead of using the loops \n",
    "\n",
    "this is better because it is faster "
   ]
  },
  {
   "cell_type": "code",
   "execution_count": 27,
   "metadata": {},
   "outputs": [
    {
     "data": {
      "text/plain": [
       "6"
      ]
     },
     "execution_count": 27,
     "metadata": {},
     "output_type": "execute_result"
    }
   ],
   "source": [
    "import numpy as np\n",
    "np.count_nonzero(ratings==8.9)\n"
   ]
  },
  {
   "cell_type": "markdown",
   "metadata": {},
   "source": [
    "Another numpy function that can be used "
   ]
  },
  {
   "cell_type": "code",
   "execution_count": 28,
   "metadata": {},
   "outputs": [
    {
     "data": {
      "text/plain": [
       "The Shawshank Redemption                             2.230014\n",
       "The Godfather                                        2.219203\n",
       "The Godfather: Part II                               2.208274\n",
       "The Dark Knight                                      2.197225\n",
       "Pulp Fiction                                         2.186051\n",
       "12 Angry Men                                         2.186051\n",
       "The Good, the Bad and the Ugly                       2.186051\n",
       "The Lord of the Rings: The Return of the King        2.186051\n",
       "Schindler's List                                     2.186051\n",
       "Fight Club                                           2.186051\n",
       "The Lord of the Rings: The Fellowship of the Ring    2.174752\n",
       "Inception                                            2.174752\n",
       "Star Wars: Episode V - The Empire Strikes Back       2.174752\n",
       "Forrest Gump                                         2.174752\n",
       "dtype: float64"
      ]
     },
     "execution_count": 28,
     "metadata": {},
     "output_type": "execute_result"
    }
   ],
   "source": [
    "np.log(ratings)"
   ]
  },
  {
   "cell_type": "markdown",
   "metadata": {},
   "source": [
    "Pandas series could be multiplied, added and substraction can be performed on them \n",
    "but they have to have matching index for example \n",
    "\n",
    "- where there was no index it produced NaN which is considered as a float \n"
   ]
  },
  {
   "cell_type": "code",
   "execution_count": 33,
   "metadata": {},
   "outputs": [
    {
     "data": {
      "text/plain": [
       "12 Angry Men                                          NaN\n",
       "Fight Club                                            NaN\n",
       "Forrest Gump                                          NaN\n",
       "Inception                                             NaN\n",
       "Pulp Fiction                                          NaN\n",
       "Schindler's List                                      NaN\n",
       "Star Wars: Episode V - The Empire Strikes Back        NaN\n",
       "The Dark Knight                                       NaN\n",
       "The Godfather                                        18.4\n",
       "The Godfather: Part II                               18.2\n",
       "The Good, the Bad and the Ugly                        NaN\n",
       "The Lord of the Rings: The Fellowship of the Ring     NaN\n",
       "The Lord of the Rings: The Return of the King         NaN\n",
       "The Shawshank Redemption                             18.6\n",
       "dtype: float64"
      ]
     },
     "execution_count": 33,
     "metadata": {},
     "output_type": "execute_result"
    }
   ],
   "source": [
    "ratings_added_maybe = ratings+ ratings[rantings_greater_than_9_mask]\n",
    "ratings_added_maybe"
   ]
  },
  {
   "cell_type": "markdown",
   "metadata": {},
   "source": [
    "the pandas isna is used to find where there is NaN or missing values "
   ]
  },
  {
   "cell_type": "code",
   "execution_count": 32,
   "metadata": {},
   "outputs": [
    {
     "data": {
      "text/plain": [
       "12 Angry Men                                          True\n",
       "Fight Club                                            True\n",
       "Forrest Gump                                          True\n",
       "Inception                                             True\n",
       "Pulp Fiction                                          True\n",
       "Schindler's List                                      True\n",
       "Star Wars: Episode V - The Empire Strikes Back        True\n",
       "The Dark Knight                                       True\n",
       "The Godfather                                        False\n",
       "The Godfather: Part II                               False\n",
       "The Good, the Bad and the Ugly                        True\n",
       "The Lord of the Rings: The Fellowship of the Ring     True\n",
       "The Lord of the Rings: The Return of the King         True\n",
       "The Shawshank Redemption                             False\n",
       "dtype: bool"
      ]
     },
     "execution_count": 32,
     "metadata": {},
     "output_type": "execute_result"
    }
   ],
   "source": [
    "pd.isna(ratings_added_maybe)\n",
    "# this can be stored and used to print only the NaN"
   ]
  },
  {
   "cell_type": "markdown",
   "metadata": {},
   "source": [
    "## Metadata for Series \n",
    "\n",
    "the metadata is used to assign properties to an already created series \n",
    "- .name // for the name of series or data frame \n",
    "- .index.name // for the name of the index "
   ]
  },
  {
   "cell_type": "code",
   "execution_count": 35,
   "metadata": {},
   "outputs": [
    {
     "data": {
      "text/plain": [
       "movie name\n",
       "The Shawshank Redemption                             9.3\n",
       "The Godfather                                        9.2\n",
       "The Godfather: Part II                               9.1\n",
       "The Dark Knight                                      9.0\n",
       "Pulp Fiction                                         8.9\n",
       "12 Angry Men                                         8.9\n",
       "The Good, the Bad and the Ugly                       8.9\n",
       "The Lord of the Rings: The Return of the King        8.9\n",
       "Schindler's List                                     8.9\n",
       "Fight Club                                           8.9\n",
       "The Lord of the Rings: The Fellowship of the Ring    8.8\n",
       "Inception                                            8.8\n",
       "Star Wars: Episode V - The Empire Strikes Back       8.8\n",
       "Forrest Gump                                         8.8\n",
       "Name: ratings/10 (over 10), dtype: float64"
      ]
     },
     "execution_count": 35,
     "metadata": {},
     "output_type": "execute_result"
    }
   ],
   "source": [
    "ratings.name = \"ratings/10 (over 10)\"\n",
    "ratings.index.name = \"movie name\"\n",
    "\n",
    "ratings"
   ]
  },
  {
   "cell_type": "markdown",
   "metadata": {},
   "source": [
    "the data in pandas series can be converted back to the dictionaries using `.to_dict() method`\n"
   ]
  },
  {
   "cell_type": "code",
   "execution_count": 36,
   "metadata": {},
   "outputs": [
    {
     "data": {
      "text/plain": [
       "{'The Shawshank Redemption': 9.3,\n",
       " 'The Godfather': 9.2,\n",
       " 'The Godfather: Part II': 9.1,\n",
       " 'The Dark Knight': 9.0,\n",
       " 'Pulp Fiction': 8.9,\n",
       " '12 Angry Men': 8.9,\n",
       " 'The Good, the Bad and the Ugly': 8.9,\n",
       " 'The Lord of the Rings: The Return of the King': 8.9,\n",
       " \"Schindler's List\": 8.9,\n",
       " 'Fight Club': 8.9,\n",
       " 'The Lord of the Rings: The Fellowship of the Ring': 8.8,\n",
       " 'Inception': 8.8,\n",
       " 'Star Wars: Episode V - The Empire Strikes Back': 8.8,\n",
       " 'Forrest Gump': 8.8}"
      ]
     },
     "execution_count": 36,
     "metadata": {},
     "output_type": "execute_result"
    }
   ],
   "source": [
    "ratings.to_dict()"
   ]
  },
  {
   "cell_type": "code",
   "execution_count": null,
   "metadata": {},
   "outputs": [],
   "source": [
    "print(df['Embarked'].value_counts(dropna=False))  # when counting the values of each colum \n",
    "# by default it does not count the NAN and it is set to True in this case it counts \n",
    "df.shape"
   ]
  }
 ],
 "metadata": {
  "kernelspec": {
   "display_name": "Python 3",
   "language": "python",
   "name": "python3"
  },
  "language_info": {
   "codemirror_mode": {
    "name": "ipython",
    "version": 3
   },
   "file_extension": ".py",
   "mimetype": "text/x-python",
   "name": "python",
   "nbconvert_exporter": "python",
   "pygments_lexer": "ipython3",
   "version": "3.12.1"
  }
 },
 "nbformat": 4,
 "nbformat_minor": 2
}
