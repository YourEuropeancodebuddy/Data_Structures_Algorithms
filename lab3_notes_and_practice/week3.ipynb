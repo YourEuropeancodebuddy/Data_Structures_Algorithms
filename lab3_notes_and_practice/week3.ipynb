{
 "cells": [
  {
   "cell_type": "markdown",
   "metadata": {},
   "source": [
    "Numpy  arrays and the different libraries"
   ]
  },
  {
   "cell_type": "code",
   "execution_count": 4,
   "metadata": {},
   "outputs": [
    {
     "data": {
      "text/plain": [
       "(2, 3)"
      ]
     },
     "execution_count": 4,
     "metadata": {},
     "output_type": "execute_result"
    }
   ],
   "source": [
    "import numpy as np\n",
    "arr = np.array([ [1,2,3], [2,3,4]])\n",
    "arr\n"
   ]
  },
  {
   "cell_type": "code",
   "execution_count": 5,
   "metadata": {},
   "outputs": [
    {
     "data": {
      "text/plain": [
       "(2, 3)"
      ]
     },
     "execution_count": 5,
     "metadata": {},
     "output_type": "execute_result"
    }
   ],
   "source": [
    "arr.shape # returns a tuple containing the number of rows and\n",
    "# colums "
   ]
  },
  {
   "cell_type": "code",
   "execution_count": 6,
   "metadata": {},
   "outputs": [
    {
     "data": {
      "text/plain": [
       "2"
      ]
     },
     "execution_count": 6,
     "metadata": {},
     "output_type": "execute_result"
    }
   ],
   "source": [
    "# the dimension is retrieved using \n",
    "arr.ndim # returns an integer indicating the dimension"
   ]
  },
  {
   "cell_type": "code",
   "execution_count": 7,
   "metadata": {},
   "outputs": [
    {
     "data": {
      "text/plain": [
       "dtype('int64')"
      ]
     },
     "execution_count": 7,
     "metadata": {},
     "output_type": "execute_result"
    }
   ],
   "source": [
    "arr.dtype # returns the data type and if there is one float \n",
    "# it would return float \n",
    "# the int64 means the bit is 64 integers and can be restricted \n",
    "# if the need arises"
   ]
  },
  {
   "cell_type": "code",
   "execution_count": 12,
   "metadata": {},
   "outputs": [
    {
     "name": "stdout",
     "output_type": "stream",
     "text": [
      " this is np 0.030075030983425677\n",
      "this is list 0.03896806400734931\n"
     ]
    }
   ],
   "source": [
    "# the nd array can also be created using the arange function\n",
    "# which has start stop and step and works similary to range in python\n",
    "# but returns a nd array\n",
    "\n",
    "import numpy as np\n",
    "import timeit\n",
    "arr = np.arange(1000)\n",
    "print(\" this is np\",timeit.timeit(lambda:2* arr, number = 10000))\n",
    "mylist = []\n",
    "for i in range(1000):\n",
    "    mylist.append(i)\n",
    "print(\"this is list\",timeit.timeit(lambda: 2 *mylist, number = 10000))\n",
    "\n",
    "# numpy is faster approximately 250 faster than list and the difference\n",
    "# is more visible for larger size"
   ]
  },
  {
   "cell_type": "markdown",
   "metadata": {},
   "source": [
    "Methods to create numpy arrays "
   ]
  },
  {
   "cell_type": "code",
   "execution_count": 17,
   "metadata": {},
   "outputs": [
    {
     "data": {
      "text/plain": [
       "array([[[1., 1., 1., 1.],\n",
       "        [1., 1., 1., 1.]],\n",
       "\n",
       "       [[1., 1., 1., 1.],\n",
       "        [1., 1., 1., 1.]],\n",
       "\n",
       "       [[1., 1., 1., 1.],\n",
       "        [1., 1., 1., 1.]]])"
      ]
     },
     "execution_count": 17,
     "metadata": {},
     "output_type": "execute_result"
    }
   ],
   "source": [
    "import numpy as np\n",
    "arr = np.zeros([3,2,4], dtype = 'int32')\n",
    "arr\n",
    "# passing the shape of the array as a list is not a good practice because lists are mutable\n",
    "# and since the arguments passed should not be changed it is a good practice to pass it as a tuple\n",
    "\n",
    "newarr = np.zeros((3,2,4), dtype = 'int32')\n",
    "newarr\n",
    "# there is no specific reason for creating int 32\n",
    "# and by default it creattes float64 of zeros \n",
    "# the reason for creating an array of zeros is so that it can be \n",
    "# filled depending on the need\n",
    "onesarr = np.ones((3,2,4))\n",
    "onesarr"
   ]
  },
  {
   "cell_type": "markdown",
   "metadata": {},
   "source": [
    "the functions zeros_like and ones_like is very useful when it comes to creating an array like an already created or given array. For example\n"
   ]
  },
  {
   "cell_type": "code",
   "execution_count": 18,
   "metadata": {},
   "outputs": [
    {
     "data": {
      "text/plain": [
       "array([[1, 1, 1],\n",
       "       [1, 1, 1]])"
      ]
     },
     "execution_count": 18,
     "metadata": {},
     "output_type": "execute_result"
    }
   ],
   "source": [
    "import numpy as np \n",
    "arr  = np.array([[1,2,3], [3,2,1]])\n",
    "np.zeros_like(arr)\n",
    "np.ones_like(arr)"
   ]
  },
  {
   "cell_type": "markdown",
   "metadata": {},
   "source": [
    "the function random.rand is useful when it comes to creating an array with random numbers\n",
    "it takes the shape as an argument\n"
   ]
  },
  {
   "cell_type": "code",
   "execution_count": 19,
   "metadata": {},
   "outputs": [
    {
     "data": {
      "text/plain": [
       "array([[0.14676531, 0.29737883, 0.55241723],\n",
       "       [0.5530817 , 0.53564544, 0.6741871 ]])"
      ]
     },
     "execution_count": 19,
     "metadata": {},
     "output_type": "execute_result"
    }
   ],
   "source": [
    "import random\n",
    "np.random.rand(2,3)"
   ]
  },
  {
   "cell_type": "markdown",
   "metadata": {},
   "source": [
    "Accessing elements of nd arrays \n",
    " the index can be used to access a single element \n",
    " a range can be specified "
   ]
  },
  {
   "cell_type": "code",
   "execution_count": 21,
   "metadata": {},
   "outputs": [
    {
     "name": "stdout",
     "output_type": "stream",
     "text": [
      "[[0.89354161 0.32525079]\n",
      " [0.28245682 0.82927491]\n",
      " [0.94364717 0.4674391 ]]\n",
      "\n",
      "\n",
      "0.3252507922031349\n"
     ]
    }
   ],
   "source": [
    "arr = np.random.rand(3,2)\n",
    "print(arr)\n",
    "print(\"\\n\")\n",
    "print(arr[0,1]) # using index to retrieve a single element\n",
    "# zero represents the first row and 1 the second column"
   ]
  },
  {
   "cell_type": "code",
   "execution_count": 22,
   "metadata": {},
   "outputs": [
    {
     "name": "stdout",
     "output_type": "stream",
     "text": [
      "[[0.85896801 0.79984551]\n",
      " [0.65211866 0.59193932]\n",
      " [0.26130137 0.56183354]] \n",
      "\n",
      "[[0.65211866 0.59193932]\n",
      " [0.26130137 0.56183354]]\n"
     ]
    }
   ],
   "source": [
    "# retrieving a range of elements\n",
    "arr = np.random.rand(3,2)\n",
    "print(arr, '\\n')\n",
    "print(arr[1:,:])  # 1: from the second row onwards \n",
    "# : means the full range or all onwards \n"
   ]
  },
  {
   "cell_type": "markdown",
   "metadata": {},
   "source": [
    "the values returned have different arrays and shapes and \n",
    "sometimes it is not an array if a single element is returned\n",
    "fpr example\n",
    "\n",
    "!! pay attention to the difference in synthax between \n",
    "arr[1:,:] and  the second : means full range after 1\n",
    "arr[1,:] the : means on the same row only "
   ]
  },
  {
   "cell_type": "code",
   "execution_count": 23,
   "metadata": {},
   "outputs": [
    {
     "name": "stdout",
     "output_type": "stream",
     "text": [
      "[[0.74787214 0.05174626]\n",
      " [0.09362276 0.30574278]\n",
      " [0.85117869 0.8066407 ]] \n",
      "\n",
      "[0.74787214 0.05174626]\n"
     ]
    }
   ],
   "source": [
    "arr = np.random.rand(3,2)\n",
    "print(arr, \"\\n\")\n",
    "print(arr[0,:]) # pay attention to the different synthax \n"
   ]
  },
  {
   "cell_type": "markdown",
   "metadata": {},
   "source": [
    "Accessing the elements in the nd arrays using boolean values\n",
    "The way it is done is that another list containing boolean values coresponding with how we want to prin the array is created ( true meaning element to be printed and false to be ignored) \n",
    "\n",
    "This method is useful when we have numerical facts about an entity stored in a nd array that have to be retrieved"
   ]
  },
  {
   "cell_type": "code",
   "execution_count": 24,
   "metadata": {},
   "outputs": [
    {
     "data": {
      "text/plain": [
       "array([1, 4])"
      ]
     },
     "execution_count": 24,
     "metadata": {},
     "output_type": "execute_result"
    }
   ],
   "source": [
    "arr = np.array([1,2,3,4])\n",
    "lst = [True, False, False, True]\n",
    "arr[lst]\n",
    "# the values correspoding to True are printed"
   ]
  },
  {
   "cell_type": "markdown",
   "metadata": {},
   "source": [
    "Nd arrays are mutable meaning the it's content can be modified using index and assignment or equal to the desired appropriate value. (appropriate because the dtype has to be observed)"
   ]
  },
  {
   "cell_type": "code",
   "execution_count": 27,
   "metadata": {},
   "outputs": [
    {
     "name": "stdout",
     "output_type": "stream",
     "text": [
      "[[0.5170931  0.70089746 0.53454424]\n",
      " [0.95616609 0.62224568 0.03525615]\n",
      " [0.16322275 0.46302817 0.6549629 ]\n",
      " [0.38506188 0.21376027 0.61369598]] \n",
      "\n",
      "\n",
      "[[0.5170931  0.70089746 0.53454424]\n",
      " [1.         1.         1.        ]\n",
      " [1.         1.         1.        ]\n",
      " [0.38506188 0.21376027 0.61369598]]\n"
     ]
    }
   ],
   "source": [
    "arr = np.random.rand(4,3)\n",
    "print(arr, '\\n\\n')\n",
    "arr[1:3,:] = 1\n",
    "print(arr)"
   ]
  },
  {
   "cell_type": "markdown",
   "metadata": {},
   "source": [
    "Operations for Numpy Arrays \n",
    "- Two arrays of the same size and shape can be added together \n",
    "- can be substracted from each other \n",
    "- can be multiplied\n",
    "- and division can be applied\n",
    "- and the elements in the same index are added or substracted and a new array of the same size and shape is returned \n",
    "\n",
    "- if either the size or shape is not the same, then a ValueError is returned with a messagae hinting on different shapes. "
   ]
  },
  {
   "cell_type": "code",
   "execution_count": 32,
   "metadata": {},
   "outputs": [
    {
     "name": "stdout",
     "output_type": "stream",
     "text": [
      "[[1 2 3 4]\n",
      " [1 2 3 4]] \n",
      "\n",
      "[[2. 3. 4. 5.]\n",
      " [2. 3. 4. 5.]]\n",
      "[[0. 1. 2. 3.]\n",
      " [0. 1. 2. 3.]]\n"
     ]
    }
   ],
   "source": [
    "import numpy as np\n",
    "arr1 = np.array([[1,2,3,4],[1,2,3,4]])\n",
    "arr2 = np.ones((2,4))\n",
    "print(arr1,'\\n')\n",
    "print(arr1+arr2)\n",
    "print(arr1-arr2)\n",
    "\n"
   ]
  },
  {
   "cell_type": "markdown",
   "metadata": {},
   "source": [
    "## transpose \n",
    "- nd arrays can be transposed and it is performed using the T aatribute which returns a new nd array \n",
    "if an array with shape(2,3) and array with (3,2) is returned "
   ]
  },
  {
   "cell_type": "code",
   "execution_count": 33,
   "metadata": {},
   "outputs": [
    {
     "name": "stdout",
     "output_type": "stream",
     "text": [
      "[[0.6677226  0.81322963 0.41407847]\n",
      " [0.92276699 0.99144907 0.20778972]] \n",
      "\n",
      "[[0.6677226  0.92276699]\n",
      " [0.81322963 0.99144907]\n",
      " [0.41407847 0.20778972]]\n"
     ]
    }
   ],
   "source": [
    "import numpy as np\n",
    "arr1 =  np.random.rand(2,3)\n",
    "print(arr1, '\\n')\n",
    "print(arr1.T)"
   ]
  },
  {
   "cell_type": "markdown",
   "metadata": {},
   "source": [
    "# Matrix Multiplication\n",
    "Multiplication is performed according to the rules of matrix multiplication \n",
    "- the infinix operator for matrix multiplication is `@`\n",
    "-  @ though the shape might not match this @ symbol allows matrix braodcasting according to the numpy rules if the rows of the first array matches the column of th second one\n",
    "then it can be rearanged so that the multiplation works"
   ]
  },
  {
   "cell_type": "code",
   "execution_count": 36,
   "metadata": {},
   "outputs": [
    {
     "name": "stdout",
     "output_type": "stream",
     "text": [
      "[[ 1  4  9]\n",
      " [ 4 10 18]]\n"
     ]
    }
   ],
   "source": [
    "import numpy as np\n",
    "arr1  = np.array([[1,2,3], [4,5,6]])\n",
    "arr2 = np.array([[1,0,0], [0,2,0], [0,0,3]])\n",
    "print(arr1,'\\n')\n",
    "print(arr2,'\\n')\n",
    "print(arr1@ arr2)\n"
   ]
  },
  {
   "cell_type": "markdown",
   "metadata": {},
   "source": [
    "## Advanced linear operations such as inverses and  determinants can be done on arrays ##\n"
   ]
  },
  {
   "cell_type": "code",
   "execution_count": 37,
   "metadata": {},
   "outputs": [
    {
     "name": "stdout",
     "output_type": "stream",
     "text": [
      "-2.0000000000000004 \n",
      "\n",
      "[[-2.   1. ]\n",
      " [ 1.5 -0.5]] \n",
      "\n",
      "[[1.0000000e+00 0.0000000e+00]\n",
      " [8.8817842e-16 1.0000000e+00]]\n"
     ]
    }
   ],
   "source": [
    "import numpy as np\n",
    "x = np.array([[1,2],[3,4]])\n",
    "print(np.linalg.det(x), '\\n')\n",
    "print(np.linalg.inv(x), '\\n')\n",
    "print(x @np.linalg.inv(x))"
   ]
  },
  {
   "cell_type": "markdown",
   "metadata": {},
   "source": [
    "Creating custom Numpy Array Functions \n",
    "- the built in operations for numpy are very efficient in speed \n",
    "- writing our own function using loops and other ineficient structures which numpy avoids is ineficient and therefore \n",
    "- to make it efficient \n",
    "## our custom functions have to be `universal` `ufunc` that they can act on numpy objects too ## \n",
    "\n",
    "\n",
    "`np.vectorize` is used to make a custom function efficient and suitable to work on numpy objects\n",
    "\n",
    "`frompyfun` can also be used to adjust accordingly custom functions. this takes \n",
    "- the already defined python function as first argument \n",
    "- number of input arrays  as second argument\n",
    "- number of returning arrays a third argument\n"
   ]
  },
  {
   "cell_type": "code",
   "execution_count": 43,
   "metadata": {},
   "outputs": [
    {
     "data": {
      "text/plain": [
       "array([[6, 7],\n",
       "       [8, 9]])"
      ]
     },
     "execution_count": 43,
     "metadata": {},
     "output_type": "execute_result"
    }
   ],
   "source": [
    "import numpy as np\n",
    "arr1 = np.array([[1,2], \n",
    "                 [3,4]])\n",
    "arr2 = np.array([[4,3],\n",
    "                 [2,1]])\n",
    "\n",
    "def linear_comb(x,y):\n",
    "    return 2 *x +y\n",
    "\n",
    "np.vectorize(linear_comb)\n",
    "\n",
    "linear_comb(arr1, arr2)"
   ]
  },
  {
   "cell_type": "markdown",
   "metadata": {},
   "source": [
    "## input, output and Data visualization "
   ]
  },
  {
   "cell_type": "markdown",
   "metadata": {},
   "source": [
    "let's assume that we have a CSV file \n",
    "A csv file contains data arranged in rows and colums \n",
    "and the colums are separeted by `,` and the rows appear on each new line"
   ]
  },
  {
   "cell_type": "code",
   "execution_count": 44,
   "metadata": {},
   "outputs": [],
   "source": [
    "with open('codinglabs.csv', 'w') as f:\n",
    "    for k in range(-5,5):\n",
    "        f.write(\"{:.1f},{:.2f}\\n\".format(k,k**2)) # this creates a new file \n",
    "    "
   ]
  },
  {
   "cell_type": "markdown",
   "metadata": {},
   "source": [
    "To import the data into our numpy arrays \n",
    "`np.loadtxt` is used provided by numpy\n",
    "- it takes many arguments but the most important one is the `delimiter` which is a comma `,`.\n",
    "\n",
    "## if file has header as columns we obtain a ValueError such as pthon could not convert strings to floats because python reads numerical values as floats by default, if there is a need to read the values as a specific type then `dtype` could be passed to the ` np.loadtxt` ##\n",
    "\n",
    "if the file has headers\n",
    "- the function `np.load` is used and must be instructe to ignore first `n`lines using the optional argument and value `skiprows = n` \n",
    "- To specify the number of colums to be read, the optional argument `usecols = (1,2,4)` can be passed and would read only the ` 1,  2 and 4` colums.\n",
    "\n",
    "- it is crucial to consider the delimiter used in the csv file as it changes and could be `TAB`, and`;`"
   ]
  },
  {
   "cell_type": "code",
   "execution_count": 45,
   "metadata": {},
   "outputs": [
    {
     "data": {
      "text/plain": [
       "array([[-5., 25.],\n",
       "       [-4., 16.],\n",
       "       [-3.,  9.],\n",
       "       [-2.,  4.],\n",
       "       [-1.,  1.],\n",
       "       [ 0.,  0.],\n",
       "       [ 1.,  1.],\n",
       "       [ 2.,  4.],\n",
       "       [ 3.,  9.],\n",
       "       [ 4., 16.]])"
      ]
     },
     "execution_count": 45,
     "metadata": {},
     "output_type": "execute_result"
    }
   ],
   "source": [
    "arr = np.loadtxt(\"codinglabs.csv\", delimiter = ',')\n",
    "arr"
   ]
  },
  {
   "cell_type": "markdown",
   "metadata": {},
   "source": [
    "## Data ouput from a Numpy Array ##\n",
    "- the function `np.savetxt` can be used to saved a numpy array into a file of desired name. but it saves it as human readable, if not human readable is desired then np.save can be used it takes\n",
    "- the name of the file as the first argument \n",
    "- the array name from which the array is got from\n",
    "- and many more optional arguments \n"
   ]
  },
  {
   "cell_type": "code",
   "execution_count": 48,
   "metadata": {},
   "outputs": [],
   "source": [
    "import numpy as np\n",
    "array1= np.linspace(0,1,11)\n",
    "np.savetxt(\"savingarrays\", array1, fmt = \"%.4f\")\n",
    "np.save(\"codingarray\", array1) # save it as a binary file"
   ]
  },
  {
   "cell_type": "markdown",
   "metadata": {},
   "source": [
    "## Data visualization uses Matplotlib see first semester notes ##"
   ]
  },
  {
   "cell_type": "markdown",
   "metadata": {},
   "source": []
  }
 ],
 "metadata": {
  "kernelspec": {
   "display_name": "Python 3",
   "language": "python",
   "name": "python3"
  },
  "language_info": {
   "codemirror_mode": {
    "name": "ipython",
    "version": 3
   },
   "file_extension": ".py",
   "mimetype": "text/x-python",
   "name": "python",
   "nbconvert_exporter": "python",
   "pygments_lexer": "ipython3",
   "version": "3.12.1"
  }
 },
 "nbformat": 4,
 "nbformat_minor": 2
}
