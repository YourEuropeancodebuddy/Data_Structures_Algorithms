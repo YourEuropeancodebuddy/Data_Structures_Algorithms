{
 "cells": [
  {
   "cell_type": "markdown",
   "id": "9578795f-723e-46cc-b7f4-faed37e6858e",
   "metadata": {
    "id": "9578795f-723e-46cc-b7f4-faed37e6858e"
   },
   "source": [
    "# Data Structures and Processing\n",
    "\n",
    "##  Image Processing"
   ]
  },
  {
   "cell_type": "markdown",
   "id": "e8b4d83d-aafa-4503-822b-25a9e318163f",
   "metadata": {
    "id": "e8b4d83d-aafa-4503-822b-25a9e318163f",
    "tags": []
   },
   "source": [
    "### Remarks:\n",
    "\n",
    "1. Install the libraries listed below using your package manager.  An example of installing the library `numpy` is to issue a the following command on a terminal (in Ubuntu) `python3 -m pip install numpy`.\n",
    "\n",
    "2. Make sure that you are following the conventions.  For examples, `import numpy as np`, which imports pandas packages and sets the abbreviation for it.\n",
    "\n",
    "3. Do not import the packages without the short names, unless it is intentional.  Doing so might lead to a namespace conflict, or unintended uses of functions coming from two libraries as a part of different implementations.\n",
    "\n",
    "4. We are assigning `None` to variables and use `pass` in the body of the functions, where we expect a solution from you.  Please replace these values and statements with your solution."
   ]
  },
  {
   "cell_type": "markdown",
   "id": "0c1d9d69-0a50-4804-93e5-113136c827ce",
   "metadata": {
    "id": "0c1d9d69-0a50-4804-93e5-113136c827ce"
   },
   "source": [
    "The exercises in this notebook are aligned with the material provided for the lecture."
   ]
  },
  {
   "cell_type": "markdown",
   "id": "b1aa9048-bfc7-4ee0-af22-fb0d78606569",
   "metadata": {
    "id": "b1aa9048-bfc7-4ee0-af22-fb0d78606569"
   },
   "source": [
    "### Load Libraries"
   ]
  },
  {
   "cell_type": "code",
   "execution_count": 7,
   "id": "2512a105-8759-4def-90bd-37977472539a",
   "metadata": {
    "id": "2512a105-8759-4def-90bd-37977472539a",
    "tags": []
   },
   "outputs": [],
   "source": [
    "import numpy as np\n",
    "import matplotlib.pyplot as plt\n",
    "import imageio.v3 as iio\n",
    "import ipympl\n",
    "import skimage as ski"
   ]
  },
  {
   "cell_type": "markdown",
   "id": "ced24119-c44a-4e5d-b468-2e6a46103ef0",
   "metadata": {
    "id": "ced24119-c44a-4e5d-b468-2e6a46103ef0"
   },
   "source": [
    "### Task 1: Arrays or Lists to Images\n",
    "\n",
    "A basic unit of  digital image is a pixel.  These pixels are arranged together in horizontal and vertical directions on a screen in a rectangular shape. This rectangular arrangement constitute an image. A pixel, on the other hand, is triplet of numbers. These numbers might have different ranges depending upon the kind of format used.  For example, an image having an `RGB` format has the numbers ranged between 0 and 255.\n",
    "\n",
    "An image seen as an arrangement of pixels, with pixels having a list of three numbers, does not have to involve `numpy` arrays, but rather it might be a list of nested lists with the inner most list having length 3.  The Python library `matplotlib`, then takes care of the necessary conversions to make sure that when the imags is plotted, then it is done exactly how it was meant to be.  If we work with the `numpy` arrays, then we can use the power of the library to use different methods, functions and access different attributes to better work with the images at hand.\n",
    "\n",
    "Your task is to create an numpy array named `img` with the shape `(3,4,3)` and display it in the notebook.  It is not important what type of numbers are filled in at the deepest level. For this you could generate those numbers randomly using `np.random`."
   ]
  },
  {
   "cell_type": "code",
   "execution_count": null,
   "id": "894d035d-fe79-4291-8d95-027fbecd79be",
   "metadata": {
    "id": "894d035d-fe79-4291-8d95-027fbecd79be"
   },
   "outputs": [
    {
     "data": {
      "text/plain": [
       "<matplotlib.image.AxesImage at 0x1195888f0>"
      ]
     },
     "execution_count": 49,
     "metadata": {},
     "output_type": "execute_result"
    }
   ],
   "source": [
    "# Your solutions goes here.\n",
    "\n",
    "img = np.random.rand(3,4,3)\n",
    "plt.figure(figsize=(10, 5))\n",
    "plt.subplot(1, 2, 1)\n",
    "plt.title('image')\n",
    "plt.imshow(img)"
   ]
  },
  {
   "cell_type": "markdown",
   "id": "b111cc37-26ce-423d-b2e8-018da87b9a3f",
   "metadata": {
    "id": "b111cc37-26ce-423d-b2e8-018da87b9a3f"
   },
   "source": [
    "## Task 2: Color Channels\n",
    "\n",
    "Each pixel has three color channels: `red`, `green` and `blue`.  Given an image, if we want to remove a channel from it, then we have to put 0 at the corresponding place. This task of switching channels off becomes even simpler if we use the `numpy` arrays, because we can use their arithmetics to do so.\n",
    "\n",
    "In the following block, we define an `image` as a `numpy` array. Your task is to display three pictures with:\n",
    "1. `red` channel removed,\n",
    "2. `green` channel removed,\n",
    "3. `blue` channel removed.\n",
    "\n",
    "Generate extra blocks below if there is a need."
   ]
  },
  {
   "cell_type": "code",
   "execution_count": 48,
   "id": "8ff6d4c7-995d-475a-9b47-9c92776c8e70",
   "metadata": {
    "id": "8ff6d4c7-995d-475a-9b47-9c92776c8e70"
   },
   "outputs": [
    {
     "data": {
      "text/plain": [
       "(20, 10, 3)"
      ]
     },
     "execution_count": 48,
     "metadata": {},
     "output_type": "execute_result"
    }
   ],
   "source": [
    "# Evaluate this block to make sure the variable is set to a correct value.\n",
    "\n",
    "image = np.array([[[112,160,124],[51,159,107],[243,146,17],[78,136,42],[248,1,123],[2,243,234],[34,172,157],[109,6,183],[224,147,3],[136,248,206]],[[34,156,245],[212,99,237],[67,127,58],[249,134,217],[245,161,83],[129,165,115],[41,19,153],[74,249,251],[99,186,100],[50,26,171]],[[210,246,125],[119,197,50],[68,221,250],[52,232,121],[210,141,248],[46,85,213],[221,3,61],[45,119,58],[106,102,92],[200,57,76]],[[14,126,116],[197,174,12],[201,118,10],[179,66,143],[4,133,91],[6,217,53],[92,163,110],[172,163,57],[112,99,182],[200,216,19]],[[105,183,48],[74,238,92],[8,129,153],[226,78,134],[70,122,12],[222,93,30],[229,144,56],[190,101,22],[237,180,217],[112,175,108]],[[55,69,169],[80,185,45],[88,174,186],[187,162,119],[150,165,86],[248,188,250],[2,109,48],[185,246,63],[1,167,101],[60,0,162]],[[70,115,127],[45,83,135],[133,166,115],[177,112,113],[85,117,47],[237,189,94],[36,201,174],[159,154,91],[13,121,67],[72,112,64]],[[202,161,68],[131,231,8],[208,32,66],[239,218,56],[50,160,171],[140,28,251],[168,0,22],[170,36,94],[98,241,219],[84,143,94]],[[237,118,109],[244,208,116],[168,123,136],[17,4,132],[237,63,85],[16,76,111],[144,79,133],[135,78,200],[173,105,225],[62,134,234]],[[7,6,211],[114,220,181],[173,127,40],[60,192,121],[170,143,70],[169,168,116],[100,124,208],[253,251,143],[136,99,88],[201,226,84]],[[249,215,242],[138,117,102],[223,5,147],[225,30,37],[148,233,202],[220,92,232],[97,93,223],[205,115,182],[169,54,92],[228,120,230]],[[170,77,125],[168,23,25],[190,150,48],[170,129,104],[52,24,225],[1,7,125],[252,150,24],[231,1,168],[1,66,189],[216,123,239]],[[174,93,71],[17,39,186],[91,186,66],[82,58,176],[25,211,186],[140,184,172],[0,82,155],[252,252,170],[119,84,58],[45,121,138]],[[126,77,80],[232,25,230],[89,241,168],[9,172,251],[169,35,29],[204,204,245],[159,40,73],[196,72,70],[4,35,247],[25,26,71]],[[96,208,147],[108,45,92],[123,192,234],[26,41,79],[113,236,101],[38,168,41],[104,242,252],[228,42,156],[14,54,228],[23,154,179]],[[26,68,124],[131,41,100],[31,247,59],[80,9,87],[128,213,86],[107,113,85],[41,189,209],[207,178,169],[253,225,57],[54,184,61]],[[183,69,224],[114,215,149],[141,5,76],[76,138,62],[52,101,199],[70,246,21],[65,227,157],[216,114,156],[153,62,11],[241,202,12]],[[40,121,60],[39,199,2],[98,7,29],[6,7,42],[234,185,224],[71,170,158],[252,194,147],[221,28,204],[137,70,233],[172,249,235]],[[73,118,175],[126,109,179],[33,222,16],[202,243,209],[132,244,157],[135,20,145],[161,2,203],[65,253,96],[102,130,239],[157,220,5]],[[96,8,199],[128,49,254],[162,196,159],[150,177,254],[89,159,100],[185,73,150],[209,100,127],[159,197,49],[217,0,141],[239,32,9]]])\n",
    "image.shape"
   ]
  },
  {
   "cell_type": "code",
   "execution_count": null,
   "id": "0f7e5ebb-a24c-4706-b849-46f9a0678931",
   "metadata": {
    "id": "0f7e5ebb-a24c-4706-b849-46f9a0678931"
   },
   "outputs": [],
   "source": [
    "# Your solution to red channel removed.\n",
    "img_r = image.copy()\n",
    "img_r[:,:,0] = 0\n",
    "plt.figure(figsize=(10, 5))\n",
    "\n",
    "plt.subplot(1, 2, 1)\n",
    "plt.title('Original Image')\n",
    "plt.imshow(image)\n",
    "\n",
    "plt.subplot(1, 2, 2)\n",
    "plt.title('Image with No Red Channel')\n",
    "plt.imshow(img_r)\n"
   ]
  },
  {
   "cell_type": "code",
   "execution_count": 25,
   "id": "3588ab8a-855a-43c4-9901-e60d53d0e835",
   "metadata": {
    "id": "3588ab8a-855a-43c4-9901-e60d53d0e835"
   },
   "outputs": [],
   "source": [
    "# Your solution to green channel removed.\n",
    "img_g = image.copy\n",
    "img_g[:,:,1] = 0\n",
    "plt.figure(figsize=(10, 5))\n",
    "\n",
    "plt.subplot(1, 2, 1)\n",
    "plt.title('Original Image')\n",
    "plt.imshow(image)\n",
    "\n",
    "plt.subplot(1, 2, 2)\n",
    "plt.title('Image with No Green Channel')\n",
    "plt.imshow(img_g)"
   ]
  },
  {
   "cell_type": "code",
   "execution_count": 26,
   "id": "d04b6a1b-55d8-4d96-985b-c0630570cc9d",
   "metadata": {
    "id": "d04b6a1b-55d8-4d96-985b-c0630570cc9d"
   },
   "outputs": [],
   "source": [
    "# Your solution to blue channel removed.\n",
    "img_b = image.copy\n",
    "img_b[:,:,2] = 0\n",
    "plt.figure(figsize=(10, 5))\n",
    "\n",
    "plt.subplot(1, 2, 1)\n",
    "plt.title('Original Image')\n",
    "plt.imshow(image)\n",
    "\n",
    "plt.subplot(1, 2, 2)\n",
    "plt.title('Image with No Blue Channel')\n",
    "plt.imshow(img_b)"
   ]
  },
  {
   "cell_type": "markdown",
   "id": "e61946d3-bf3c-4acb-aca0-fdd0833d47af",
   "metadata": {
    "id": "e61946d3-bf3c-4acb-aca0-fdd0833d47af"
   },
   "source": [
    "## Task 3: Manipulating Pixels\n",
    "\n",
    "Reconsider the example of `numpy` array `image` from a previous task. To make sure that the value of this arrays reverts back to our desired value, we provide it below one more time.\n",
    "\n",
    "Your task is to replace each individual number in a pixel with the average value of the pixel and display the image. For this, define a new array `image_avg` obtained by averaging, as just desribed."
   ]
  },
  {
   "cell_type": "code",
   "execution_count": null,
   "id": "8a0e303e-10d3-4587-acbe-a2c4172bcfce",
   "metadata": {
    "id": "8a0e303e-10d3-4587-acbe-a2c4172bcfce"
   },
   "outputs": [],
   "source": [
    "# Your solution goes here.\n",
    "\n",
    "image_avg =  np.mean(image, axis=2, keepdims=False)\n",
    "\n",
    "# Display the original image and the image with averaged pixels\n",
    "plt.figure(figsize=(12, 6))\n",
    "plt.subplot(1, 2, 1)\n",
    "plt.title('Original Image')\n",
    "plt.imshow(image)\n",
    "\n",
    "plt.subplot(1, 2, 2)\n",
    "plt.title('Image with Averaged Pixels')\n",
    "plt.imshow(image_avg, cmap='gray') \n",
    "\n",
    "plt.show()\n",
    "# Display the resulting array"
   ]
  },
  {
   "cell_type": "markdown",
   "id": "a133cb71-245a-406f-8a69-f460025c7d6a",
   "metadata": {
    "id": "a133cb71-245a-406f-8a69-f460025c7d6a"
   },
   "source": [
    "## Task 4: Saving Images to files\n",
    "\n",
    "Reconsider the previous task, where you have created an image by averaging different channels.\n",
    "\n",
    "Your task is to store the image to a file named `random-image-01.jpg`."
   ]
  },
  {
   "cell_type": "code",
   "execution_count": null,
   "id": "bd1a60b0-a0b0-4e34-8444-2df5fed9702d",
   "metadata": {
    "id": "bd1a60b0-a0b0-4e34-8444-2df5fed9702d"
   },
   "outputs": [],
   "source": [
    "# Your solution goes here.\n",
    "image_avg =  np.mean(image, axis=2, keepdims=True)\n",
    "plt.savefig('random-image-01.jpg', bbox_inches='tight', pad_inches=0)"
   ]
  },
  {
   "cell_type": "markdown",
   "id": "8f7f0d57-f5df-4292-8448-232008e42257",
   "metadata": {
    "id": "8f7f0d57-f5df-4292-8448-232008e42257"
   },
   "source": [
    "## Task 5: Reading Images in from files\n",
    "\n",
    "We provide an image `beads.jpg` with this notebook. Any other image would do the job too.\n",
    "\n",
    "Your task is to\n",
    "1. read an image to a variable `image` using the Python library called `imageio`,\n",
    "2. obtain a new array `image_r` that contains only the `red` channel.\n",
    "3. save the `image_r` to a file named `beads_r.png`."
   ]
  },
  {
   "cell_type": "code",
   "execution_count": null,
   "id": "16aeba86-72be-4c01-a382-af3af27ea407",
   "metadata": {
    "id": "16aeba86-72be-4c01-a382-af3af27ea407"
   },
   "outputs": [],
   "source": [
    "# Your solution goes here\n",
    "\n",
    "image = imageio.imread('beads.jpg')\n",
    "\n",
    "# Extract the red channel\n",
    "image_r = image.copy()\n",
    "image_r[:, :, [1, 2]] = 0  # Set green and blue channels to zero\n",
    "\n",
    "# Save the red channel image to a file named 'beads_r.png'\n",
    "imageio.imwrite('beads_r.png', image_r)"
   ]
  },
  {
   "cell_type": "markdown",
   "id": "808d2d1a-fd4d-4b61-ad52-3323a97982cb",
   "metadata": {
    "id": "808d2d1a-fd4d-4b61-ad52-3323a97982cb"
   },
   "source": [
    "## Task 6: Image I/O and Manipulation\n",
    "\n",
    "Define a function `image_averaged` with two string arguments: `file_in` and `file_out`. This function must do the following\n",
    "\n",
    "1. reads the image pointed to by the path `file_in`,\n",
    "2. averages each pixel using the channels in that pixel,\n",
    "3. saves the averaged array as a image to a file using `file_out`,\n",
    "4. returns `file_out`"
   ]
  },
  {
   "cell_type": "code",
   "execution_count": null,
   "id": "e19dfd41-c042-48cd-af35-568b1b5aef5b",
   "metadata": {
    "id": "e19dfd41-c042-48cd-af35-568b1b5aef5b"
   },
   "outputs": [],
   "source": [
    "# Your solution goes here.\n",
    "\n",
    "def image_averaged(file_in, file_out):\n",
    "    # Read the image using imageio\n",
    "    image = imageio.imread(file_in)\n",
    "\n",
    "    # Calculate the average of each pixel across channels\n",
    "    image_avg = np.mean(image, axis=2, keepdims=True)\n",
    "\n",
    "    # Save the averaged image to a file\n",
    "    imageio.imwrite(file_out, image_avg.astype(np.uint8))\n",
    "\n",
    "    return file_out\n",
    "\n"
   ]
  },
  {
   "cell_type": "code",
   "execution_count": null,
   "id": "4ad9a7a5-ad09-4b17-8a95-ef8176f63e65",
   "metadata": {
    "id": "4ad9a7a5-ad09-4b17-8a95-ef8176f63e65"
   },
   "outputs": [],
   "source": [
    "# Test your function `image_averaged` on a sample file `beads.jpg`.\n",
    "file_in = 'beads.jpg'\n",
    "file_out = 'beads_averaged.png'\n",
    "result_file = image_averaged(file_in, file_out)\n",
    "print(f\"Averaged image saved to: {result_file}\")"
   ]
  },
  {
   "cell_type": "markdown",
   "id": "da11cd2b-af73-4ea0-8167-0d0a730d87c0",
   "metadata": {
    "id": "da11cd2b-af73-4ea0-8167-0d0a730d87c0"
   },
   "source": [
    "## Task 7: Image Manipulation: Crop or Slice\n",
    "\n",
    "Write down a function named `image_right_half` that takes two arguments `file_in` and `file_out` and it does the following:\n",
    "\n",
    "1. reads the image `file_in`,\n",
    "2. crops the right half of the image,\n",
    "3. saves the new image to `file_out`,\n",
    "4. returns `file_out`."
   ]
  },
  {
   "cell_type": "code",
   "execution_count": null,
   "id": "b0853af0-380f-4f9a-81aa-d1daaae85680",
   "metadata": {
    "id": "b0853af0-380f-4f9a-81aa-d1daaae85680"
   },
   "outputs": [],
   "source": [
    "# Your solutios goes here.\n",
    "def image_right_half(file_in, file_out):\n",
    "    # Read the image using imageio\n",
    "    image = imageio.imread(file_in)\n",
    "\n",
    "    # Get the width of the image\n",
    "    width = image.shape[1]\n",
    "\n",
    "    # Crop the right half of the image\n",
    "    cropped_image = image[:, width // 2:, :]\n",
    "\n",
    "    # Save the cropped image to a file\n",
    "    imageio.imwrite(file_out, cropped_image)\n",
    "\n",
    "    return file_out\n"
   ]
  },
  {
   "cell_type": "code",
   "execution_count": null,
   "id": "57a77672-75d8-4f69-89ff-c78fcdbf9980",
   "metadata": {
    "id": "57a77672-75d8-4f69-89ff-c78fcdbf9980"
   },
   "outputs": [],
   "source": [
    "# Test your function `image_right_half` on a sample file `beads.jpg`\n",
    "file_in = 'beads.jpg'\n",
    "file_out = 'beads_right_half.png'\n",
    "result_file = image_right_half(file_in, file_out)\n",
    "print(f\"Right half of the image saved to: {result_file}\")"
   ]
  },
  {
   "cell_type": "markdown",
   "id": "51bf934e-3e52-48ed-b9f2-3d3aafcc90b9",
   "metadata": {
    "id": "51bf934e-3e52-48ed-b9f2-3d3aafcc90b9"
   },
   "source": [
    "## Task 8: Image Manipulation: Masking\n",
    "\n",
    "Masking might be an expensive operation, because it amounts to turning of undesired values in pixels.  It might be even slower, if we worked with a huge image and tried to view the image in this Jupyter notebook.\n",
    "\n",
    "Your task is to write down a function `image_mask`, which takes six arguments:\n",
    "\n",
    "1. `file_in`: image to be read in.\n",
    "2. `file_out`: image to be written to.\n",
    "3. `x1,y1` the upper right corner of the rectangle for the mask.\n",
    "4. `x2,y2` lower right corder or the rentangle for the mask.\n",
    "\n",
    "The function `image_mask` takes the `file_in` applies the mask and then writes the resulting image to `file_out`."
   ]
  },
  {
   "cell_type": "code",
   "execution_count": null,
   "id": "9ac767ca-f42d-4563-86ba-d98d2412731c",
   "metadata": {
    "id": "9ac767ca-f42d-4563-86ba-d98d2412731c"
   },
   "outputs": [],
   "source": [
    "# Your solution goes here.\n",
    "\n",
    "import imageio\n",
    "\n",
    "def image_mask(file_in, file_out, x1, y1, x2, y2):\n",
    "    # Read the input image using imageio\n",
    "    image = imageio.imread(file_in)\n",
    "\n",
    "    # Apply the mask to the image\n",
    "    mask = image.copy()\n",
    "    mask[y1:y2, x1:x2, :] = 0  # Set the pixels in the mask region to black\n",
    "\n",
    "    # Save the masked image to file_out\n",
    "    imageio.imwrite(file_out, mask)\n",
    "\n",
    "    return file_out\n",
    "\n"
   ]
  },
  {
   "cell_type": "code",
   "execution_count": null,
   "id": "d3b331eb-b911-4b69-97d4-ca8946c279df",
   "metadata": {
    "id": "d3b331eb-b911-4b69-97d4-ca8946c279df"
   },
   "outputs": [],
   "source": [
    "# Test your function on a sample image.\n",
    "file_in = 'beads.jpg'\n",
    "file_out = 'beads_masked.png'\n",
    "x1, y1 = 100, 50  # Upper left corner of the rectangle\n",
    "x2, y2 = 300, 200  # Lower right corner of the rectangle\n",
    "result_file = image_mask(file_in, file_out, x1, y1, x2, y2)\n",
    "print(f\"Masked image saved to: {result_file}\")"
   ]
  },
  {
   "cell_type": "markdown",
   "id": "5d916ac6-2a9c-4958-a372-11d8097fa59f",
   "metadata": {
    "id": "5d916ac6-2a9c-4958-a372-11d8097fa59f"
   },
   "source": [
    "## Task 9: Histograms\n",
    "\n",
    "Write down a function `image_hist_red` that takes the two arguments: `file_in` and `file_out`.  This function plots a histrogram of the `red` channel and stores it in `file_out`."
   ]
  },
  {
   "cell_type": "code",
   "execution_count": null,
   "id": "20c01b78-b3d2-4e85-b82d-6a8f788af912",
   "metadata": {
    "id": "20c01b78-b3d2-4e85-b82d-6a8f788af912"
   },
   "outputs": [],
   "source": [
    "# Your solution goes here.\n",
    "\n",
    "import imageio\n",
    "import matplotlib.pyplot as plt\n",
    "\n",
    "def image_hist_red(file_in, file_out):\n",
    "    # Read the image using imageio\n",
    "    image = imageio.imread(file_in)\n",
    "\n",
    "    # Extract the red channel\n",
    "    red_channel = image[:, :, 0].flatten()\n",
    "\n",
    "    # Plot the histogram of the red channel\n",
    "    plt.hist(red_channel, bins=256, range=(0, 256), color='red', alpha=0.7)\n",
    "    plt.xlabel('Red Intensity')\n",
    "    plt.ylabel('Frequency')\n",
    "    plt.title('Histogram of Red Channel')\n",
    "    plt.grid(True)\n",
    "    \n",
    "    # Save the histogram plot to file_out\n",
    "    plt.savefig(file_out)\n",
    "    \n",
    "    # Show the histogram plot\n",
    "    plt.show()\n",
    "\n"
   ]
  },
  {
   "cell_type": "code",
   "execution_count": null,
   "id": "45d199fc-f33f-4848-81e9-940387a923d3",
   "metadata": {
    "id": "45d199fc-f33f-4848-81e9-940387a923d3"
   },
   "outputs": [],
   "source": [
    "# Test your function `image_hist_red` on a sample image.\n",
    "file_in = 'beads.jpg'\n",
    "file_out = 'red_channel_histogram.png'\n",
    "image_hist_red(file_in, file_out)"
   ]
  },
  {
   "cell_type": "markdown",
   "id": "a3f9f47b-e1bd-4cfd-ada4-bd5715cb4216",
   "metadata": {
    "id": "a3f9f47b-e1bd-4cfd-ada4-bd5715cb4216"
   },
   "source": [
    "## Task 10: Object Identification (Bonus)\n",
    "\n",
    "Consider the image `sudoku.png` in the attachment to this notebook.\n",
    "\n",
    "Write down a function `image_object_count` that takes a `file_in` as the only argument and returns the number of objects on it.\n",
    "\n",
    "For help, please refer to the associated lecture material."
   ]
  },
  {
   "cell_type": "code",
   "execution_count": null,
   "id": "835aed81-4c4c-4914-a05b-e499b6f1d65c",
   "metadata": {
    "id": "835aed81-4c4c-4914-a05b-e499b6f1d65c"
   },
   "outputs": [],
   "source": [
    "# Your solution goes here\n",
    "import cv2\n",
    "import numpy as np\n",
    "\n",
    "def image_object_count(file_in):\n",
    "    # Read the image using OpenCV\n",
    "    image = cv2.imread(file_in, cv2.IMREAD_GRAYSCALE)\n",
    "\n",
    "    # Threshold the image to obtain a binary image\n",
    "    _, binary_image = cv2.threshold(image, 127, 255, cv2.THRESH_BINARY)\n",
    "\n",
    "    # Find contours in the binary image\n",
    "    contours, _ = cv2.findContours(binary_image, cv2.RETR_EXTERNAL, cv2.CHAIN_APPROX_SIMPLE)\n",
    "\n",
    "    # Count the number of objects (contours)\n",
    "    object_count = len(contours)\n",
    "\n",
    "    return object_count\n",
    "\n"
   ]
  },
  {
   "cell_type": "code",
   "execution_count": null,
   "id": "d96b902f-2dd6-416b-bc5c-e9731a1252c9",
   "metadata": {
    "id": "d96b902f-2dd6-416b-bc5c-e9731a1252c9"
   },
   "outputs": [],
   "source": [
    "# Test your function against the image sudoku.png\n",
    "# Your function should return 29\n",
    "file_in = 'sudoku.png'\n",
    "count = image_object_count(file_in)\n",
    "print(f'Number of objects in the image: {count}')"
   ]
  }
 ],
 "metadata": {
  "colab": {
   "provenance": []
  },
  "kernelspec": {
   "display_name": "Python 3 (ipykernel)",
   "language": "python",
   "name": "python3"
  },
  "language_info": {
   "codemirror_mode": {
    "name": "ipython",
    "version": 3
   },
   "file_extension": ".py",
   "mimetype": "text/x-python",
   "name": "python",
   "nbconvert_exporter": "python",
   "pygments_lexer": "ipython3",
   "version": "3.12.1"
  },
  "name": "week8.ipynb"
 },
 "nbformat": 4,
 "nbformat_minor": 5
}
